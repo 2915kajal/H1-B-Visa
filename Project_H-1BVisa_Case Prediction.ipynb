{
 "cells": [
  {
   "cell_type": "markdown",
   "metadata": {},
   "source": [
    "# Project : H-1B Visa Case Prediction"
   ]
  },
  {
   "cell_type": "markdown",
   "metadata": {},
   "source": [
    "# Problem Statement"
   ]
  },
  {
   "cell_type": "markdown",
   "metadata": {},
   "source": [
    "H-1B visas are a category of employment-based, non-immigrant visas for temporary foreign workers in the United States. \n",
    "\n",
    "For a foreign national to apply for H1-B visa, a US employer must offer them a job and submit a petition for a H-1B visa to the US immigration department. \n",
    "\n",
    "This is also the most common visa status applied for and held by international students once they complete college or higher education and begin working in a full-time position.\n",
    "\n",
    "This dataset contains five year's worth of H-1B petition data, with approximately 3 million records overall. \n",
    "We aim to predict the outcome of H-1B visa applications that are filed by many high-skilled foreign nationals every year. We framed the problem as a classification problem and applied different Machine Learning Algorithms in order to output a\n",
    "predicted case status of the application. \n",
    "\n",
    "The input to our algorithm is the attributes of the applicant which will be further explained in the following parts."
   ]
  },
  {
   "cell_type": "markdown",
   "metadata": {},
   "source": [
    "# Analysis Of the problem statement"
   ]
  },
  {
   "cell_type": "markdown",
   "metadata": {},
   "source": [
    "Let's first understand the dataset provided and using that dataset we will try to understand the above problem in Machine Learning World.\n",
    "\n",
    "Since the dataset is huge let's load it using python itself."
   ]
  },
  {
   "cell_type": "code",
   "execution_count": 1,
   "metadata": {},
   "outputs": [
    {
     "data": {
      "text/plain": [
       "'C:\\\\Users\\\\Kajal\\\\Desktop\\\\H-1BVisa'"
      ]
     },
     "execution_count": 1,
     "metadata": {},
     "output_type": "execute_result"
    }
   ],
   "source": [
    "import os\n",
    "os.getcwd()"
   ]
  },
  {
   "cell_type": "code",
   "execution_count": 2,
   "metadata": {},
   "outputs": [],
   "source": [
    "import warnings\n",
    "warnings.filterwarnings('ignore')"
   ]
  },
  {
   "cell_type": "code",
   "execution_count": 3,
   "metadata": {},
   "outputs": [],
   "source": [
    "#Loading All required packages\n",
    "import pandas as pd\n",
    "import numpy as np\n",
    "import matplotlib.pyplot as plt\n",
    "from sklearn.preprocessing import LabelEncoder\n",
    "from sklearn.model_selection import train_test_split as tts\n",
    "from sklearn.ensemble import RandomForestClassifier\n",
    "from sklearn.metrics import accuracy_score,classification_report\n",
    "from sklearn.tree import DecisionTreeClassifier\n",
    "from sklearn.ensemble import BaggingClassifier\n",
    "from sklearn.ensemble import AdaBoostClassifier\n",
    "from sklearn.ensemble import GradientBoostingClassifier\n",
    "import xgboost as xgb\n",
    "from imblearn.over_sampling import SMOTE"
   ]
  },
  {
   "cell_type": "markdown",
   "metadata": {},
   "source": [
    "# Importing the dataset"
   ]
  },
  {
   "cell_type": "code",
   "execution_count": 4,
   "metadata": {},
   "outputs": [],
   "source": [
    "#Loading csv file into DataFrame\n",
    "df=pd.read_csv('H-1B_Visa.csv')"
   ]
  },
  {
   "cell_type": "code",
   "execution_count": 5,
   "metadata": {},
   "outputs": [
    {
     "data": {
      "text/html": [
       "<div>\n",
       "<style scoped>\n",
       "    .dataframe tbody tr th:only-of-type {\n",
       "        vertical-align: middle;\n",
       "    }\n",
       "\n",
       "    .dataframe tbody tr th {\n",
       "        vertical-align: top;\n",
       "    }\n",
       "\n",
       "    .dataframe thead th {\n",
       "        text-align: right;\n",
       "    }\n",
       "</style>\n",
       "<table border=\"1\" class=\"dataframe\">\n",
       "  <thead>\n",
       "    <tr style=\"text-align: right;\">\n",
       "      <th></th>\n",
       "      <th>Unnamed: 0</th>\n",
       "      <th>CASE_NUMBER</th>\n",
       "      <th>CASE_STATUS</th>\n",
       "      <th>CASE_SUBMITTED</th>\n",
       "      <th>DECISION_DATE</th>\n",
       "      <th>VISA_CLASS</th>\n",
       "      <th>EMPLOYMENT_START_DATE</th>\n",
       "      <th>EMPLOYMENT_END_DATE</th>\n",
       "      <th>EMPLOYER_NAME</th>\n",
       "      <th>EMPLOYER_BUSINESS_DBA</th>\n",
       "      <th>...</th>\n",
       "      <th>H1B_DEPENDENT</th>\n",
       "      <th>WILLFUL_VIOLATOR</th>\n",
       "      <th>SUPPORT_H1B</th>\n",
       "      <th>LABOR_CON_AGREE</th>\n",
       "      <th>PUBLIC_DISCLOSURE_LOCATION</th>\n",
       "      <th>WORKSITE_CITY</th>\n",
       "      <th>WORKSITE_COUNTY</th>\n",
       "      <th>WORKSITE_STATE</th>\n",
       "      <th>WORKSITE_POSTAL_CODE</th>\n",
       "      <th>ORIGINAL_CERT_DATE</th>\n",
       "    </tr>\n",
       "  </thead>\n",
       "  <tbody>\n",
       "    <tr>\n",
       "      <th>0</th>\n",
       "      <td>0</td>\n",
       "      <td>I-200-16055-173457</td>\n",
       "      <td>CERTIFIED-WITHDRAWN</td>\n",
       "      <td>2016-02-24</td>\n",
       "      <td>2016-10-01</td>\n",
       "      <td>H-1B</td>\n",
       "      <td>2016-08-10</td>\n",
       "      <td>2019-08-10</td>\n",
       "      <td>DISCOVER PRODUCTS INC.</td>\n",
       "      <td>NaN</td>\n",
       "      <td>...</td>\n",
       "      <td>N</td>\n",
       "      <td>N</td>\n",
       "      <td>NaN</td>\n",
       "      <td>Y</td>\n",
       "      <td>NaN</td>\n",
       "      <td>RIVERWOODS</td>\n",
       "      <td>LAKE</td>\n",
       "      <td>IL</td>\n",
       "      <td>60015</td>\n",
       "      <td>2016-03-01</td>\n",
       "    </tr>\n",
       "    <tr>\n",
       "      <th>1</th>\n",
       "      <td>1</td>\n",
       "      <td>I-200-16064-557834</td>\n",
       "      <td>CERTIFIED-WITHDRAWN</td>\n",
       "      <td>2016-03-04</td>\n",
       "      <td>2016-10-01</td>\n",
       "      <td>H-1B</td>\n",
       "      <td>2016-08-16</td>\n",
       "      <td>2019-08-16</td>\n",
       "      <td>DFS SERVICES LLC</td>\n",
       "      <td>NaN</td>\n",
       "      <td>...</td>\n",
       "      <td>N</td>\n",
       "      <td>N</td>\n",
       "      <td>NaN</td>\n",
       "      <td>Y</td>\n",
       "      <td>NaN</td>\n",
       "      <td>RIVERWOODS</td>\n",
       "      <td>LAKE</td>\n",
       "      <td>IL</td>\n",
       "      <td>60015</td>\n",
       "      <td>2016-03-08</td>\n",
       "    </tr>\n",
       "    <tr>\n",
       "      <th>2</th>\n",
       "      <td>2</td>\n",
       "      <td>I-200-16063-996093</td>\n",
       "      <td>CERTIFIED-WITHDRAWN</td>\n",
       "      <td>2016-03-10</td>\n",
       "      <td>2016-10-01</td>\n",
       "      <td>H-1B</td>\n",
       "      <td>2016-09-09</td>\n",
       "      <td>2019-09-09</td>\n",
       "      <td>EASTBANC TECHNOLOGIES LLC</td>\n",
       "      <td>NaN</td>\n",
       "      <td>...</td>\n",
       "      <td>Y</td>\n",
       "      <td>N</td>\n",
       "      <td>Y</td>\n",
       "      <td>NaN</td>\n",
       "      <td>NaN</td>\n",
       "      <td>WASHINGTON</td>\n",
       "      <td>NaN</td>\n",
       "      <td>DC</td>\n",
       "      <td>20007</td>\n",
       "      <td>2016-03-16</td>\n",
       "    </tr>\n",
       "    <tr>\n",
       "      <th>3</th>\n",
       "      <td>3</td>\n",
       "      <td>I-200-16272-196340</td>\n",
       "      <td>WITHDRAWN</td>\n",
       "      <td>2016-09-28</td>\n",
       "      <td>2016-10-01</td>\n",
       "      <td>H-1B</td>\n",
       "      <td>2017-01-26</td>\n",
       "      <td>2020-01-25</td>\n",
       "      <td>INFO SERVICES LLC</td>\n",
       "      <td>NaN</td>\n",
       "      <td>...</td>\n",
       "      <td>Y</td>\n",
       "      <td>N</td>\n",
       "      <td>Y</td>\n",
       "      <td>NaN</td>\n",
       "      <td>NaN</td>\n",
       "      <td>JERSEY CITY</td>\n",
       "      <td>HUDSON</td>\n",
       "      <td>NJ</td>\n",
       "      <td>07302</td>\n",
       "      <td>NaN</td>\n",
       "    </tr>\n",
       "    <tr>\n",
       "      <th>4</th>\n",
       "      <td>4</td>\n",
       "      <td>I-200-15053-636744</td>\n",
       "      <td>CERTIFIED-WITHDRAWN</td>\n",
       "      <td>2015-02-22</td>\n",
       "      <td>2016-10-02</td>\n",
       "      <td>H-1B</td>\n",
       "      <td>2015-03-01</td>\n",
       "      <td>2018-03-01</td>\n",
       "      <td>BB&amp;T CORPORATION</td>\n",
       "      <td>NaN</td>\n",
       "      <td>...</td>\n",
       "      <td>N</td>\n",
       "      <td>N</td>\n",
       "      <td>NaN</td>\n",
       "      <td>Y</td>\n",
       "      <td>NaN</td>\n",
       "      <td>NEW YORK</td>\n",
       "      <td>NEW YORK</td>\n",
       "      <td>NY</td>\n",
       "      <td>10036</td>\n",
       "      <td>2015-02-26</td>\n",
       "    </tr>\n",
       "  </tbody>\n",
       "</table>\n",
       "<p>5 rows × 53 columns</p>\n",
       "</div>"
      ],
      "text/plain": [
       "   Unnamed: 0         CASE_NUMBER          CASE_STATUS CASE_SUBMITTED  \\\n",
       "0           0  I-200-16055-173457  CERTIFIED-WITHDRAWN     2016-02-24   \n",
       "1           1  I-200-16064-557834  CERTIFIED-WITHDRAWN     2016-03-04   \n",
       "2           2  I-200-16063-996093  CERTIFIED-WITHDRAWN     2016-03-10   \n",
       "3           3  I-200-16272-196340            WITHDRAWN     2016-09-28   \n",
       "4           4  I-200-15053-636744  CERTIFIED-WITHDRAWN     2015-02-22   \n",
       "\n",
       "  DECISION_DATE VISA_CLASS EMPLOYMENT_START_DATE EMPLOYMENT_END_DATE  \\\n",
       "0    2016-10-01       H-1B            2016-08-10          2019-08-10   \n",
       "1    2016-10-01       H-1B            2016-08-16          2019-08-16   \n",
       "2    2016-10-01       H-1B            2016-09-09          2019-09-09   \n",
       "3    2016-10-01       H-1B            2017-01-26          2020-01-25   \n",
       "4    2016-10-02       H-1B            2015-03-01          2018-03-01   \n",
       "\n",
       "               EMPLOYER_NAME EMPLOYER_BUSINESS_DBA        ...          \\\n",
       "0     DISCOVER PRODUCTS INC.                   NaN        ...           \n",
       "1           DFS SERVICES LLC                   NaN        ...           \n",
       "2  EASTBANC TECHNOLOGIES LLC                   NaN        ...           \n",
       "3          INFO SERVICES LLC                   NaN        ...           \n",
       "4           BB&T CORPORATION                   NaN        ...           \n",
       "\n",
       "  H1B_DEPENDENT WILLFUL_VIOLATOR SUPPORT_H1B LABOR_CON_AGREE  \\\n",
       "0             N                N         NaN               Y   \n",
       "1             N                N         NaN               Y   \n",
       "2             Y                N           Y             NaN   \n",
       "3             Y                N           Y             NaN   \n",
       "4             N                N         NaN               Y   \n",
       "\n",
       "  PUBLIC_DISCLOSURE_LOCATION WORKSITE_CITY WORKSITE_COUNTY WORKSITE_STATE  \\\n",
       "0                        NaN    RIVERWOODS            LAKE             IL   \n",
       "1                        NaN    RIVERWOODS            LAKE             IL   \n",
       "2                        NaN    WASHINGTON             NaN             DC   \n",
       "3                        NaN   JERSEY CITY          HUDSON             NJ   \n",
       "4                        NaN      NEW YORK        NEW YORK             NY   \n",
       "\n",
       "  WORKSITE_POSTAL_CODE ORIGINAL_CERT_DATE  \n",
       "0                60015         2016-03-01  \n",
       "1                60015         2016-03-08  \n",
       "2                20007         2016-03-16  \n",
       "3                07302                NaN  \n",
       "4                10036         2015-02-26  \n",
       "\n",
       "[5 rows x 53 columns]"
      ]
     },
     "execution_count": 5,
     "metadata": {},
     "output_type": "execute_result"
    }
   ],
   "source": [
    "df.head()"
   ]
  },
  {
   "cell_type": "markdown",
   "metadata": {},
   "source": [
    "Let's understand the above data. As it contains so many columns.For more information about invidual columns, refer to the column data. \n",
    "\n",
    "A detailed description of raw dataset is available in the zip folder of this file."
   ]
  },
  {
   "cell_type": "code",
   "execution_count": 6,
   "metadata": {},
   "outputs": [
    {
     "name": "stdout",
     "output_type": "stream",
     "text": [
      "<class 'pandas.core.frame.DataFrame'>\n",
      "RangeIndex: 624650 entries, 0 to 624649\n",
      "Data columns (total 53 columns):\n",
      "Unnamed: 0                     624650 non-null int64\n",
      "CASE_NUMBER                    624650 non-null object\n",
      "CASE_STATUS                    624650 non-null object\n",
      "CASE_SUBMITTED                 624650 non-null object\n",
      "DECISION_DATE                  624650 non-null object\n",
      "VISA_CLASS                     624650 non-null object\n",
      "EMPLOYMENT_START_DATE          624621 non-null object\n",
      "EMPLOYMENT_END_DATE            624620 non-null object\n",
      "EMPLOYER_NAME                  624594 non-null object\n",
      "EMPLOYER_BUSINESS_DBA          43270 non-null object\n",
      "EMPLOYER_ADDRESS               624643 non-null object\n",
      "EMPLOYER_CITY                  624635 non-null object\n",
      "EMPLOYER_STATE                 624632 non-null object\n",
      "EMPLOYER_POSTAL_CODE           624632 non-null object\n",
      "EMPLOYER_COUNTRY               528143 non-null object\n",
      "EMPLOYER_PROVINCE              6116 non-null object\n",
      "EMPLOYER_PHONE                 528142 non-null object\n",
      "EMPLOYER_PHONE_EXT             27872 non-null object\n",
      "AGENT_REPRESENTING_EMPLOYER    528144 non-null object\n",
      "AGENT_ATTORNEY_NAME            624650 non-null object\n",
      "AGENT_ATTORNEY_CITY            351344 non-null object\n",
      "AGENT_ATTORNEY_STATE           336009 non-null object\n",
      "JOB_TITLE                      624645 non-null object\n",
      "SOC_CODE                       624648 non-null object\n",
      "SOC_NAME                       624647 non-null object\n",
      "NAICS_CODE                     624643 non-null object\n",
      "TOTAL_WORKERS                  624650 non-null int64\n",
      "NEW_EMPLOYMENT                 624650 non-null int64\n",
      "CONTINUED_EMPLOYMENT           624650 non-null int64\n",
      "CHANGE_PREVIOUS_EMPLOYMENT     624650 non-null int64\n",
      "NEW_CONCURRENT_EMPLOYMENT      624650 non-null int64\n",
      "CHANGE_EMPLOYER                624650 non-null int64\n",
      "AMENDED_PETITION               624650 non-null int64\n",
      "FULL_TIME_POSITION             624645 non-null object\n",
      "PREVAILING_WAGE                624649 non-null float64\n",
      "PW_UNIT_OF_PAY                 624604 non-null object\n",
      "PW_WAGE_LEVEL                  500930 non-null object\n",
      "PW_SOURCE                      624604 non-null object\n",
      "PW_SOURCE_YEAR                 624605 non-null float64\n",
      "PW_SOURCE_OTHER                618278 non-null object\n",
      "WAGE_RATE_OF_PAY_FROM          624650 non-null float64\n",
      "WAGE_RATE_OF_PAY_TO            624649 non-null float64\n",
      "WAGE_UNIT_OF_PAY               624642 non-null object\n",
      "H1B_DEPENDENT                  610908 non-null object\n",
      "WILLFUL_VIOLATOR               610905 non-null object\n",
      "SUPPORT_H1B                    240476 non-null object\n",
      "LABOR_CON_AGREE                244975 non-null object\n",
      "PUBLIC_DISCLOSURE_LOCATION     0 non-null float64\n",
      "WORKSITE_CITY                  624637 non-null object\n",
      "WORKSITE_COUNTY                623471 non-null object\n",
      "WORKSITE_STATE                 624641 non-null object\n",
      "WORKSITE_POSTAL_CODE           624631 non-null object\n",
      "ORIGINAL_CERT_DATE             49708 non-null object\n",
      "dtypes: float64(5), int64(8), object(40)\n",
      "memory usage: 252.6+ MB\n"
     ]
    }
   ],
   "source": [
    "df.info()"
   ]
  },
  {
   "cell_type": "code",
   "execution_count": 7,
   "metadata": {},
   "outputs": [
    {
     "data": {
      "text/html": [
       "<div>\n",
       "<style scoped>\n",
       "    .dataframe tbody tr th:only-of-type {\n",
       "        vertical-align: middle;\n",
       "    }\n",
       "\n",
       "    .dataframe tbody tr th {\n",
       "        vertical-align: top;\n",
       "    }\n",
       "\n",
       "    .dataframe thead th {\n",
       "        text-align: right;\n",
       "    }\n",
       "</style>\n",
       "<table border=\"1\" class=\"dataframe\">\n",
       "  <thead>\n",
       "    <tr style=\"text-align: right;\">\n",
       "      <th></th>\n",
       "      <th>Unnamed: 0</th>\n",
       "      <th>TOTAL_WORKERS</th>\n",
       "      <th>NEW_EMPLOYMENT</th>\n",
       "      <th>CONTINUED_EMPLOYMENT</th>\n",
       "      <th>CHANGE_PREVIOUS_EMPLOYMENT</th>\n",
       "      <th>NEW_CONCURRENT_EMPLOYMENT</th>\n",
       "      <th>CHANGE_EMPLOYER</th>\n",
       "      <th>AMENDED_PETITION</th>\n",
       "      <th>PREVAILING_WAGE</th>\n",
       "      <th>PW_SOURCE_YEAR</th>\n",
       "      <th>WAGE_RATE_OF_PAY_FROM</th>\n",
       "      <th>WAGE_RATE_OF_PAY_TO</th>\n",
       "      <th>PUBLIC_DISCLOSURE_LOCATION</th>\n",
       "    </tr>\n",
       "  </thead>\n",
       "  <tbody>\n",
       "    <tr>\n",
       "      <th>count</th>\n",
       "      <td>624650.000000</td>\n",
       "      <td>624650.000000</td>\n",
       "      <td>624650.000000</td>\n",
       "      <td>624650.000000</td>\n",
       "      <td>624650.000000</td>\n",
       "      <td>624650.000000</td>\n",
       "      <td>624650.000000</td>\n",
       "      <td>624650.000000</td>\n",
       "      <td>6.246490e+05</td>\n",
       "      <td>624605.000000</td>\n",
       "      <td>6.246500e+05</td>\n",
       "      <td>6.246490e+05</td>\n",
       "      <td>0.0</td>\n",
       "    </tr>\n",
       "    <tr>\n",
       "      <th>mean</th>\n",
       "      <td>312324.500000</td>\n",
       "      <td>1.893800</td>\n",
       "      <td>0.834251</td>\n",
       "      <td>0.326300</td>\n",
       "      <td>0.130657</td>\n",
       "      <td>0.008979</td>\n",
       "      <td>0.259485</td>\n",
       "      <td>0.332703</td>\n",
       "      <td>7.321117e+04</td>\n",
       "      <td>2016.167059</td>\n",
       "      <td>8.285702e+04</td>\n",
       "      <td>2.416596e+04</td>\n",
       "      <td>NaN</td>\n",
       "    </tr>\n",
       "    <tr>\n",
       "      <th>std</th>\n",
       "      <td>180321.067162</td>\n",
       "      <td>4.826703</td>\n",
       "      <td>3.556236</td>\n",
       "      <td>1.243793</td>\n",
       "      <td>0.955791</td>\n",
       "      <td>0.157690</td>\n",
       "      <td>1.095563</td>\n",
       "      <td>1.418231</td>\n",
       "      <td>2.574025e+05</td>\n",
       "      <td>5.128159</td>\n",
       "      <td>4.266316e+04</td>\n",
       "      <td>5.255090e+04</td>\n",
       "      <td>NaN</td>\n",
       "    </tr>\n",
       "    <tr>\n",
       "      <th>min</th>\n",
       "      <td>0.000000</td>\n",
       "      <td>0.000000</td>\n",
       "      <td>0.000000</td>\n",
       "      <td>0.000000</td>\n",
       "      <td>0.000000</td>\n",
       "      <td>0.000000</td>\n",
       "      <td>0.000000</td>\n",
       "      <td>0.000000</td>\n",
       "      <td>0.000000e+00</td>\n",
       "      <td>0.000000</td>\n",
       "      <td>0.000000e+00</td>\n",
       "      <td>0.000000e+00</td>\n",
       "      <td>NaN</td>\n",
       "    </tr>\n",
       "    <tr>\n",
       "      <th>25%</th>\n",
       "      <td>156162.250000</td>\n",
       "      <td>1.000000</td>\n",
       "      <td>0.000000</td>\n",
       "      <td>0.000000</td>\n",
       "      <td>0.000000</td>\n",
       "      <td>0.000000</td>\n",
       "      <td>0.000000</td>\n",
       "      <td>0.000000</td>\n",
       "      <td>5.682600e+04</td>\n",
       "      <td>2016.000000</td>\n",
       "      <td>6.300000e+04</td>\n",
       "      <td>0.000000e+00</td>\n",
       "      <td>NaN</td>\n",
       "    </tr>\n",
       "    <tr>\n",
       "      <th>50%</th>\n",
       "      <td>312324.500000</td>\n",
       "      <td>1.000000</td>\n",
       "      <td>0.000000</td>\n",
       "      <td>0.000000</td>\n",
       "      <td>0.000000</td>\n",
       "      <td>0.000000</td>\n",
       "      <td>0.000000</td>\n",
       "      <td>0.000000</td>\n",
       "      <td>7.022100e+04</td>\n",
       "      <td>2016.000000</td>\n",
       "      <td>7.600000e+04</td>\n",
       "      <td>0.000000e+00</td>\n",
       "      <td>NaN</td>\n",
       "    </tr>\n",
       "    <tr>\n",
       "      <th>75%</th>\n",
       "      <td>468486.750000</td>\n",
       "      <td>1.000000</td>\n",
       "      <td>1.000000</td>\n",
       "      <td>0.000000</td>\n",
       "      <td>0.000000</td>\n",
       "      <td>0.000000</td>\n",
       "      <td>0.000000</td>\n",
       "      <td>0.000000</td>\n",
       "      <td>8.914900e+04</td>\n",
       "      <td>2017.000000</td>\n",
       "      <td>1.000000e+05</td>\n",
       "      <td>0.000000e+00</td>\n",
       "      <td>NaN</td>\n",
       "    </tr>\n",
       "    <tr>\n",
       "      <th>max</th>\n",
       "      <td>624649.000000</td>\n",
       "      <td>155.000000</td>\n",
       "      <td>150.000000</td>\n",
       "      <td>55.000000</td>\n",
       "      <td>50.000000</td>\n",
       "      <td>50.000000</td>\n",
       "      <td>150.000000</td>\n",
       "      <td>50.000000</td>\n",
       "      <td>2.016227e+08</td>\n",
       "      <td>2017.000000</td>\n",
       "      <td>1.688000e+06</td>\n",
       "      <td>3.000000e+06</td>\n",
       "      <td>NaN</td>\n",
       "    </tr>\n",
       "  </tbody>\n",
       "</table>\n",
       "</div>"
      ],
      "text/plain": [
       "          Unnamed: 0  TOTAL_WORKERS  NEW_EMPLOYMENT  CONTINUED_EMPLOYMENT  \\\n",
       "count  624650.000000  624650.000000   624650.000000         624650.000000   \n",
       "mean   312324.500000       1.893800        0.834251              0.326300   \n",
       "std    180321.067162       4.826703        3.556236              1.243793   \n",
       "min         0.000000       0.000000        0.000000              0.000000   \n",
       "25%    156162.250000       1.000000        0.000000              0.000000   \n",
       "50%    312324.500000       1.000000        0.000000              0.000000   \n",
       "75%    468486.750000       1.000000        1.000000              0.000000   \n",
       "max    624649.000000     155.000000      150.000000             55.000000   \n",
       "\n",
       "       CHANGE_PREVIOUS_EMPLOYMENT  NEW_CONCURRENT_EMPLOYMENT  CHANGE_EMPLOYER  \\\n",
       "count               624650.000000              624650.000000    624650.000000   \n",
       "mean                     0.130657                   0.008979         0.259485   \n",
       "std                      0.955791                   0.157690         1.095563   \n",
       "min                      0.000000                   0.000000         0.000000   \n",
       "25%                      0.000000                   0.000000         0.000000   \n",
       "50%                      0.000000                   0.000000         0.000000   \n",
       "75%                      0.000000                   0.000000         0.000000   \n",
       "max                     50.000000                  50.000000       150.000000   \n",
       "\n",
       "       AMENDED_PETITION  PREVAILING_WAGE  PW_SOURCE_YEAR  \\\n",
       "count     624650.000000     6.246490e+05   624605.000000   \n",
       "mean           0.332703     7.321117e+04     2016.167059   \n",
       "std            1.418231     2.574025e+05        5.128159   \n",
       "min            0.000000     0.000000e+00        0.000000   \n",
       "25%            0.000000     5.682600e+04     2016.000000   \n",
       "50%            0.000000     7.022100e+04     2016.000000   \n",
       "75%            0.000000     8.914900e+04     2017.000000   \n",
       "max           50.000000     2.016227e+08     2017.000000   \n",
       "\n",
       "       WAGE_RATE_OF_PAY_FROM  WAGE_RATE_OF_PAY_TO  PUBLIC_DISCLOSURE_LOCATION  \n",
       "count           6.246500e+05         6.246490e+05                         0.0  \n",
       "mean            8.285702e+04         2.416596e+04                         NaN  \n",
       "std             4.266316e+04         5.255090e+04                         NaN  \n",
       "min             0.000000e+00         0.000000e+00                         NaN  \n",
       "25%             6.300000e+04         0.000000e+00                         NaN  \n",
       "50%             7.600000e+04         0.000000e+00                         NaN  \n",
       "75%             1.000000e+05         0.000000e+00                         NaN  \n",
       "max             1.688000e+06         3.000000e+06                         NaN  "
      ]
     },
     "execution_count": 7,
     "metadata": {},
     "output_type": "execute_result"
    }
   ],
   "source": [
    "df.describe()"
   ]
  },
  {
   "cell_type": "code",
   "execution_count": 8,
   "metadata": {},
   "outputs": [
    {
     "data": {
      "text/plain": [
       "(624650, 53)"
      ]
     },
     "execution_count": 8,
     "metadata": {},
     "output_type": "execute_result"
    }
   ],
   "source": [
    "#Checking Dimension of Data\n",
    "df.shape"
   ]
  },
  {
   "attachments": {},
   "cell_type": "markdown",
   "metadata": {},
   "source": [
    "Ok we understood the dataset, as we want to predict case status of H1B visa applications.\n",
    "\n",
    "Let's try to understand the same problem from Machine Learning point of view."
   ]
  },
  {
   "cell_type": "code",
   "execution_count": 9,
   "metadata": {},
   "outputs": [
    {
     "data": {
      "text/plain": [
       "Index(['Unnamed: 0', 'CASE_NUMBER', 'CASE_STATUS', 'CASE_SUBMITTED',\n",
       "       'DECISION_DATE', 'VISA_CLASS', 'EMPLOYMENT_START_DATE',\n",
       "       'EMPLOYMENT_END_DATE', 'EMPLOYER_NAME', 'EMPLOYER_BUSINESS_DBA',\n",
       "       'EMPLOYER_ADDRESS', 'EMPLOYER_CITY', 'EMPLOYER_STATE',\n",
       "       'EMPLOYER_POSTAL_CODE', 'EMPLOYER_COUNTRY', 'EMPLOYER_PROVINCE',\n",
       "       'EMPLOYER_PHONE', 'EMPLOYER_PHONE_EXT', 'AGENT_REPRESENTING_EMPLOYER',\n",
       "       'AGENT_ATTORNEY_NAME', 'AGENT_ATTORNEY_CITY', 'AGENT_ATTORNEY_STATE',\n",
       "       'JOB_TITLE', 'SOC_CODE', 'SOC_NAME', 'NAICS_CODE', 'TOTAL_WORKERS',\n",
       "       'NEW_EMPLOYMENT', 'CONTINUED_EMPLOYMENT', 'CHANGE_PREVIOUS_EMPLOYMENT',\n",
       "       'NEW_CONCURRENT_EMPLOYMENT', 'CHANGE_EMPLOYER', 'AMENDED_PETITION',\n",
       "       'FULL_TIME_POSITION', 'PREVAILING_WAGE', 'PW_UNIT_OF_PAY',\n",
       "       'PW_WAGE_LEVEL', 'PW_SOURCE', 'PW_SOURCE_YEAR', 'PW_SOURCE_OTHER',\n",
       "       'WAGE_RATE_OF_PAY_FROM', 'WAGE_RATE_OF_PAY_TO', 'WAGE_UNIT_OF_PAY',\n",
       "       'H1B_DEPENDENT', 'WILLFUL_VIOLATOR', 'SUPPORT_H1B', 'LABOR_CON_AGREE',\n",
       "       'PUBLIC_DISCLOSURE_LOCATION', 'WORKSITE_CITY', 'WORKSITE_COUNTY',\n",
       "       'WORKSITE_STATE', 'WORKSITE_POSTAL_CODE', 'ORIGINAL_CERT_DATE'],\n",
       "      dtype='object')"
      ]
     },
     "execution_count": 9,
     "metadata": {},
     "output_type": "execute_result"
    }
   ],
   "source": [
    "#Checking columns in above dataset\n",
    "df.columns"
   ]
  },
  {
   "cell_type": "code",
   "execution_count": 10,
   "metadata": {},
   "outputs": [
    {
     "data": {
      "text/plain": [
       "H-1B               610304\n",
       "E-3 Australian      12157\n",
       "H-1B1 Singapore      1254\n",
       "H-1B1 Chile           935\n",
       "Name: VISA_CLASS, dtype: int64"
      ]
     },
     "execution_count": 10,
     "metadata": {},
     "output_type": "execute_result"
    }
   ],
   "source": [
    "df['VISA_CLASS'].value_counts()"
   ]
  },
  {
   "cell_type": "code",
   "execution_count": 11,
   "metadata": {},
   "outputs": [
    {
     "data": {
      "text/html": [
       "<div>\n",
       "<style scoped>\n",
       "    .dataframe tbody tr th:only-of-type {\n",
       "        vertical-align: middle;\n",
       "    }\n",
       "\n",
       "    .dataframe tbody tr th {\n",
       "        vertical-align: top;\n",
       "    }\n",
       "\n",
       "    .dataframe thead th {\n",
       "        text-align: right;\n",
       "    }\n",
       "</style>\n",
       "<table border=\"1\" class=\"dataframe\">\n",
       "  <thead>\n",
       "    <tr style=\"text-align: right;\">\n",
       "      <th></th>\n",
       "      <th>Unnamed: 0</th>\n",
       "      <th>CASE_NUMBER</th>\n",
       "      <th>CASE_STATUS</th>\n",
       "      <th>CASE_SUBMITTED</th>\n",
       "      <th>DECISION_DATE</th>\n",
       "      <th>VISA_CLASS</th>\n",
       "      <th>EMPLOYMENT_START_DATE</th>\n",
       "      <th>EMPLOYMENT_END_DATE</th>\n",
       "      <th>EMPLOYER_NAME</th>\n",
       "      <th>EMPLOYER_BUSINESS_DBA</th>\n",
       "      <th>...</th>\n",
       "      <th>H1B_DEPENDENT</th>\n",
       "      <th>WILLFUL_VIOLATOR</th>\n",
       "      <th>SUPPORT_H1B</th>\n",
       "      <th>LABOR_CON_AGREE</th>\n",
       "      <th>PUBLIC_DISCLOSURE_LOCATION</th>\n",
       "      <th>WORKSITE_CITY</th>\n",
       "      <th>WORKSITE_COUNTY</th>\n",
       "      <th>WORKSITE_STATE</th>\n",
       "      <th>WORKSITE_POSTAL_CODE</th>\n",
       "      <th>ORIGINAL_CERT_DATE</th>\n",
       "    </tr>\n",
       "  </thead>\n",
       "  <tbody>\n",
       "    <tr>\n",
       "      <th>0</th>\n",
       "      <td>0</td>\n",
       "      <td>I-200-16055-173457</td>\n",
       "      <td>CERTIFIED-WITHDRAWN</td>\n",
       "      <td>2016-02-24</td>\n",
       "      <td>2016-10-01</td>\n",
       "      <td>H-1B</td>\n",
       "      <td>2016-08-10</td>\n",
       "      <td>2019-08-10</td>\n",
       "      <td>DISCOVER PRODUCTS INC.</td>\n",
       "      <td>NaN</td>\n",
       "      <td>...</td>\n",
       "      <td>N</td>\n",
       "      <td>N</td>\n",
       "      <td>NaN</td>\n",
       "      <td>Y</td>\n",
       "      <td>NaN</td>\n",
       "      <td>RIVERWOODS</td>\n",
       "      <td>LAKE</td>\n",
       "      <td>IL</td>\n",
       "      <td>60015</td>\n",
       "      <td>2016-03-01</td>\n",
       "    </tr>\n",
       "    <tr>\n",
       "      <th>1</th>\n",
       "      <td>1</td>\n",
       "      <td>I-200-16064-557834</td>\n",
       "      <td>CERTIFIED-WITHDRAWN</td>\n",
       "      <td>2016-03-04</td>\n",
       "      <td>2016-10-01</td>\n",
       "      <td>H-1B</td>\n",
       "      <td>2016-08-16</td>\n",
       "      <td>2019-08-16</td>\n",
       "      <td>DFS SERVICES LLC</td>\n",
       "      <td>NaN</td>\n",
       "      <td>...</td>\n",
       "      <td>N</td>\n",
       "      <td>N</td>\n",
       "      <td>NaN</td>\n",
       "      <td>Y</td>\n",
       "      <td>NaN</td>\n",
       "      <td>RIVERWOODS</td>\n",
       "      <td>LAKE</td>\n",
       "      <td>IL</td>\n",
       "      <td>60015</td>\n",
       "      <td>2016-03-08</td>\n",
       "    </tr>\n",
       "    <tr>\n",
       "      <th>2</th>\n",
       "      <td>2</td>\n",
       "      <td>I-200-16063-996093</td>\n",
       "      <td>CERTIFIED-WITHDRAWN</td>\n",
       "      <td>2016-03-10</td>\n",
       "      <td>2016-10-01</td>\n",
       "      <td>H-1B</td>\n",
       "      <td>2016-09-09</td>\n",
       "      <td>2019-09-09</td>\n",
       "      <td>EASTBANC TECHNOLOGIES LLC</td>\n",
       "      <td>NaN</td>\n",
       "      <td>...</td>\n",
       "      <td>Y</td>\n",
       "      <td>N</td>\n",
       "      <td>Y</td>\n",
       "      <td>NaN</td>\n",
       "      <td>NaN</td>\n",
       "      <td>WASHINGTON</td>\n",
       "      <td>NaN</td>\n",
       "      <td>DC</td>\n",
       "      <td>20007</td>\n",
       "      <td>2016-03-16</td>\n",
       "    </tr>\n",
       "    <tr>\n",
       "      <th>3</th>\n",
       "      <td>3</td>\n",
       "      <td>I-200-16272-196340</td>\n",
       "      <td>WITHDRAWN</td>\n",
       "      <td>2016-09-28</td>\n",
       "      <td>2016-10-01</td>\n",
       "      <td>H-1B</td>\n",
       "      <td>2017-01-26</td>\n",
       "      <td>2020-01-25</td>\n",
       "      <td>INFO SERVICES LLC</td>\n",
       "      <td>NaN</td>\n",
       "      <td>...</td>\n",
       "      <td>Y</td>\n",
       "      <td>N</td>\n",
       "      <td>Y</td>\n",
       "      <td>NaN</td>\n",
       "      <td>NaN</td>\n",
       "      <td>JERSEY CITY</td>\n",
       "      <td>HUDSON</td>\n",
       "      <td>NJ</td>\n",
       "      <td>07302</td>\n",
       "      <td>NaN</td>\n",
       "    </tr>\n",
       "    <tr>\n",
       "      <th>4</th>\n",
       "      <td>4</td>\n",
       "      <td>I-200-15053-636744</td>\n",
       "      <td>CERTIFIED-WITHDRAWN</td>\n",
       "      <td>2015-02-22</td>\n",
       "      <td>2016-10-02</td>\n",
       "      <td>H-1B</td>\n",
       "      <td>2015-03-01</td>\n",
       "      <td>2018-03-01</td>\n",
       "      <td>BB&amp;T CORPORATION</td>\n",
       "      <td>NaN</td>\n",
       "      <td>...</td>\n",
       "      <td>N</td>\n",
       "      <td>N</td>\n",
       "      <td>NaN</td>\n",
       "      <td>Y</td>\n",
       "      <td>NaN</td>\n",
       "      <td>NEW YORK</td>\n",
       "      <td>NEW YORK</td>\n",
       "      <td>NY</td>\n",
       "      <td>10036</td>\n",
       "      <td>2015-02-26</td>\n",
       "    </tr>\n",
       "  </tbody>\n",
       "</table>\n",
       "<p>5 rows × 53 columns</p>\n",
       "</div>"
      ],
      "text/plain": [
       "   Unnamed: 0         CASE_NUMBER          CASE_STATUS CASE_SUBMITTED  \\\n",
       "0           0  I-200-16055-173457  CERTIFIED-WITHDRAWN     2016-02-24   \n",
       "1           1  I-200-16064-557834  CERTIFIED-WITHDRAWN     2016-03-04   \n",
       "2           2  I-200-16063-996093  CERTIFIED-WITHDRAWN     2016-03-10   \n",
       "3           3  I-200-16272-196340            WITHDRAWN     2016-09-28   \n",
       "4           4  I-200-15053-636744  CERTIFIED-WITHDRAWN     2015-02-22   \n",
       "\n",
       "  DECISION_DATE VISA_CLASS EMPLOYMENT_START_DATE EMPLOYMENT_END_DATE  \\\n",
       "0    2016-10-01       H-1B            2016-08-10          2019-08-10   \n",
       "1    2016-10-01       H-1B            2016-08-16          2019-08-16   \n",
       "2    2016-10-01       H-1B            2016-09-09          2019-09-09   \n",
       "3    2016-10-01       H-1B            2017-01-26          2020-01-25   \n",
       "4    2016-10-02       H-1B            2015-03-01          2018-03-01   \n",
       "\n",
       "               EMPLOYER_NAME EMPLOYER_BUSINESS_DBA        ...          \\\n",
       "0     DISCOVER PRODUCTS INC.                   NaN        ...           \n",
       "1           DFS SERVICES LLC                   NaN        ...           \n",
       "2  EASTBANC TECHNOLOGIES LLC                   NaN        ...           \n",
       "3          INFO SERVICES LLC                   NaN        ...           \n",
       "4           BB&T CORPORATION                   NaN        ...           \n",
       "\n",
       "  H1B_DEPENDENT WILLFUL_VIOLATOR SUPPORT_H1B LABOR_CON_AGREE  \\\n",
       "0             N                N         NaN               Y   \n",
       "1             N                N         NaN               Y   \n",
       "2             Y                N           Y             NaN   \n",
       "3             Y                N           Y             NaN   \n",
       "4             N                N         NaN               Y   \n",
       "\n",
       "  PUBLIC_DISCLOSURE_LOCATION WORKSITE_CITY WORKSITE_COUNTY WORKSITE_STATE  \\\n",
       "0                        NaN    RIVERWOODS            LAKE             IL   \n",
       "1                        NaN    RIVERWOODS            LAKE             IL   \n",
       "2                        NaN    WASHINGTON             NaN             DC   \n",
       "3                        NaN   JERSEY CITY          HUDSON             NJ   \n",
       "4                        NaN      NEW YORK        NEW YORK             NY   \n",
       "\n",
       "  WORKSITE_POSTAL_CODE ORIGINAL_CERT_DATE  \n",
       "0                60015         2016-03-01  \n",
       "1                60015         2016-03-08  \n",
       "2                20007         2016-03-16  \n",
       "3                07302                NaN  \n",
       "4                10036         2015-02-26  \n",
       "\n",
       "[5 rows x 53 columns]"
      ]
     },
     "execution_count": 11,
     "metadata": {},
     "output_type": "execute_result"
    }
   ],
   "source": [
    "df=df[df['VISA_CLASS']=='H-1B']\n",
    "df.head()"
   ]
  },
  {
   "cell_type": "markdown",
   "metadata": {},
   "source": [
    "Since there are categorical possible so we can call it Classification problem."
   ]
  },
  {
   "cell_type": "code",
   "execution_count": 12,
   "metadata": {},
   "outputs": [
    {
     "data": {
      "text/plain": [
       "(610304, 53)"
      ]
     },
     "execution_count": 12,
     "metadata": {},
     "output_type": "execute_result"
    }
   ],
   "source": [
    "#Checking Dimension Of data\n",
    "df.shape"
   ]
  },
  {
   "cell_type": "code",
   "execution_count": 13,
   "metadata": {},
   "outputs": [],
   "source": [
    "drop=['Unnamed: 0','CASE_NUMBER','EMPLOYER_BUSINESS_DBA','EMPLOYER_ADDRESS','EMPLOYER_CITY','EMPLOYER_POSTAL_CODE','EMPLOYER_COUNTRY','EMPLOYER_PROVINCE','EMPLOYER_PHONE','EMPLOYER_PHONE_EXT','AGENT_ATTORNEY_NAME','AGENT_ATTORNEY_CITY','SOC_CODE','PUBLIC_DISCLOSURE_LOCATION','WORKSITE_CITY','WORKSITE_COUNTY','WORKSITE_POSTAL_CODE','ORIGINAL_CERT_DATE']"
   ]
  },
  {
   "cell_type": "code",
   "execution_count": 14,
   "metadata": {},
   "outputs": [],
   "source": [
    "df=df.drop(drop,1)"
   ]
  },
  {
   "cell_type": "markdown",
   "metadata": {},
   "source": [
    "Removing the unneccessary columns as they does not contain any relevant information to predict outcome."
   ]
  },
  {
   "cell_type": "code",
   "execution_count": 15,
   "metadata": {},
   "outputs": [
    {
     "data": {
      "text/plain": [
       "(610304, 35)"
      ]
     },
     "execution_count": 15,
     "metadata": {},
     "output_type": "execute_result"
    }
   ],
   "source": [
    "#Checking Dimension of data After Removing Columns\n",
    "df.shape"
   ]
  },
  {
   "cell_type": "markdown",
   "metadata": {},
   "source": [
    "# Data Cleaning"
   ]
  },
  {
   "cell_type": "code",
   "execution_count": 16,
   "metadata": {},
   "outputs": [
    {
     "data": {
      "text/plain": [
       "CASE_STATUS                         0\n",
       "CASE_SUBMITTED                      0\n",
       "DECISION_DATE                       0\n",
       "VISA_CLASS                          0\n",
       "EMPLOYMENT_START_DATE              24\n",
       "EMPLOYMENT_END_DATE                24\n",
       "EMPLOYER_NAME                      54\n",
       "EMPLOYER_STATE                     18\n",
       "AGENT_REPRESENTING_EMPLOYER     92941\n",
       "AGENT_ATTORNEY_STATE           281594\n",
       "JOB_TITLE                           5\n",
       "SOC_NAME                            3\n",
       "NAICS_CODE                          7\n",
       "TOTAL_WORKERS                       0\n",
       "NEW_EMPLOYMENT                      0\n",
       "CONTINUED_EMPLOYMENT                0\n",
       "CHANGE_PREVIOUS_EMPLOYMENT          0\n",
       "NEW_CONCURRENT_EMPLOYMENT           0\n",
       "CHANGE_EMPLOYER                     0\n",
       "AMENDED_PETITION                    0\n",
       "FULL_TIME_POSITION                  5\n",
       "PREVAILING_WAGE                     1\n",
       "PW_UNIT_OF_PAY                     32\n",
       "PW_WAGE_LEVEL                  119458\n",
       "PW_SOURCE                          31\n",
       "PW_SOURCE_YEAR                     31\n",
       "PW_SOURCE_OTHER                  5931\n",
       "WAGE_RATE_OF_PAY_FROM               0\n",
       "WAGE_RATE_OF_PAY_TO                 1\n",
       "WAGE_UNIT_OF_PAY                    8\n",
       "H1B_DEPENDENT                       4\n",
       "WILLFUL_VIOLATOR                    4\n",
       "SUPPORT_H1B                    369872\n",
       "LABOR_CON_AGREE                365720\n",
       "WORKSITE_STATE                      9\n",
       "dtype: int64"
      ]
     },
     "execution_count": 16,
     "metadata": {},
     "output_type": "execute_result"
    }
   ],
   "source": [
    "# Taking care of Missing Data\n",
    "df.isnull().sum()"
   ]
  },
  {
   "cell_type": "markdown",
   "metadata": {},
   "source": [
    "We can see many columns with missing data. Now the question is what to do with this missing value.\n",
    "\n",
    "1.One way could be that we can drop these columns having missing values but there might be some columns which is containing some relevant information so we can not remove it directly.\n",
    "\n",
    "2.So the second way what we can do is we will remove the columns with more than 30% missing data and replace it with mode because it might be containing some synthetic data."
   ]
  },
  {
   "cell_type": "code",
   "execution_count": 17,
   "metadata": {},
   "outputs": [
    {
     "data": {
      "text/plain": [
       "['AGENT_ATTORNEY_STATE', 'SUPPORT_H1B', 'LABOR_CON_AGREE']"
      ]
     },
     "execution_count": 17,
     "metadata": {},
     "output_type": "execute_result"
    }
   ],
   "source": [
    "x=df.isnull().sum()/df.shape[0]*100\n",
    "miss=x[x>30]\n",
    "miss=list(miss.index)\n",
    "miss"
   ]
  },
  {
   "cell_type": "code",
   "execution_count": 18,
   "metadata": {},
   "outputs": [
    {
     "data": {
      "text/html": [
       "<div>\n",
       "<style scoped>\n",
       "    .dataframe tbody tr th:only-of-type {\n",
       "        vertical-align: middle;\n",
       "    }\n",
       "\n",
       "    .dataframe tbody tr th {\n",
       "        vertical-align: top;\n",
       "    }\n",
       "\n",
       "    .dataframe thead th {\n",
       "        text-align: right;\n",
       "    }\n",
       "</style>\n",
       "<table border=\"1\" class=\"dataframe\">\n",
       "  <thead>\n",
       "    <tr style=\"text-align: right;\">\n",
       "      <th></th>\n",
       "      <th>CASE_STATUS</th>\n",
       "      <th>CASE_SUBMITTED</th>\n",
       "      <th>DECISION_DATE</th>\n",
       "      <th>VISA_CLASS</th>\n",
       "      <th>EMPLOYMENT_START_DATE</th>\n",
       "      <th>EMPLOYMENT_END_DATE</th>\n",
       "      <th>EMPLOYER_NAME</th>\n",
       "      <th>EMPLOYER_STATE</th>\n",
       "      <th>AGENT_REPRESENTING_EMPLOYER</th>\n",
       "      <th>JOB_TITLE</th>\n",
       "      <th>...</th>\n",
       "      <th>PW_WAGE_LEVEL</th>\n",
       "      <th>PW_SOURCE</th>\n",
       "      <th>PW_SOURCE_YEAR</th>\n",
       "      <th>PW_SOURCE_OTHER</th>\n",
       "      <th>WAGE_RATE_OF_PAY_FROM</th>\n",
       "      <th>WAGE_RATE_OF_PAY_TO</th>\n",
       "      <th>WAGE_UNIT_OF_PAY</th>\n",
       "      <th>H1B_DEPENDENT</th>\n",
       "      <th>WILLFUL_VIOLATOR</th>\n",
       "      <th>WORKSITE_STATE</th>\n",
       "    </tr>\n",
       "  </thead>\n",
       "  <tbody>\n",
       "    <tr>\n",
       "      <th>0</th>\n",
       "      <td>CERTIFIED-WITHDRAWN</td>\n",
       "      <td>2016-02-24</td>\n",
       "      <td>2016-10-01</td>\n",
       "      <td>H-1B</td>\n",
       "      <td>2016-08-10</td>\n",
       "      <td>2019-08-10</td>\n",
       "      <td>DISCOVER PRODUCTS INC.</td>\n",
       "      <td>IL</td>\n",
       "      <td>Y</td>\n",
       "      <td>ASSOCIATE DATA INTEGRATION</td>\n",
       "      <td>...</td>\n",
       "      <td>Level I</td>\n",
       "      <td>OES</td>\n",
       "      <td>2015.0</td>\n",
       "      <td>OFLC ONLINE DATA CENTER</td>\n",
       "      <td>65811.0</td>\n",
       "      <td>67320.0</td>\n",
       "      <td>Year</td>\n",
       "      <td>N</td>\n",
       "      <td>N</td>\n",
       "      <td>IL</td>\n",
       "    </tr>\n",
       "    <tr>\n",
       "      <th>1</th>\n",
       "      <td>CERTIFIED-WITHDRAWN</td>\n",
       "      <td>2016-03-04</td>\n",
       "      <td>2016-10-01</td>\n",
       "      <td>H-1B</td>\n",
       "      <td>2016-08-16</td>\n",
       "      <td>2019-08-16</td>\n",
       "      <td>DFS SERVICES LLC</td>\n",
       "      <td>IL</td>\n",
       "      <td>Y</td>\n",
       "      <td>SENIOR ASSOCIATE</td>\n",
       "      <td>...</td>\n",
       "      <td>NaN</td>\n",
       "      <td>Other</td>\n",
       "      <td>2015.0</td>\n",
       "      <td>TOWERS WATSON DATA SERVICES 2015 CSR PROFESSIO...</td>\n",
       "      <td>53000.0</td>\n",
       "      <td>57200.0</td>\n",
       "      <td>Year</td>\n",
       "      <td>N</td>\n",
       "      <td>N</td>\n",
       "      <td>IL</td>\n",
       "    </tr>\n",
       "    <tr>\n",
       "      <th>2</th>\n",
       "      <td>CERTIFIED-WITHDRAWN</td>\n",
       "      <td>2016-03-10</td>\n",
       "      <td>2016-10-01</td>\n",
       "      <td>H-1B</td>\n",
       "      <td>2016-09-09</td>\n",
       "      <td>2019-09-09</td>\n",
       "      <td>EASTBANC TECHNOLOGIES LLC</td>\n",
       "      <td>DC</td>\n",
       "      <td>Y</td>\n",
       "      <td>.NET SOFTWARE PROGRAMMER</td>\n",
       "      <td>...</td>\n",
       "      <td>Level II</td>\n",
       "      <td>OES</td>\n",
       "      <td>2015.0</td>\n",
       "      <td>OFLC ONLINE DATA CENTER</td>\n",
       "      <td>77000.0</td>\n",
       "      <td>0.0</td>\n",
       "      <td>Year</td>\n",
       "      <td>Y</td>\n",
       "      <td>N</td>\n",
       "      <td>DC</td>\n",
       "    </tr>\n",
       "    <tr>\n",
       "      <th>3</th>\n",
       "      <td>WITHDRAWN</td>\n",
       "      <td>2016-09-28</td>\n",
       "      <td>2016-10-01</td>\n",
       "      <td>H-1B</td>\n",
       "      <td>2017-01-26</td>\n",
       "      <td>2020-01-25</td>\n",
       "      <td>INFO SERVICES LLC</td>\n",
       "      <td>MI</td>\n",
       "      <td>N</td>\n",
       "      <td>PROJECT MANAGER</td>\n",
       "      <td>...</td>\n",
       "      <td>Level III</td>\n",
       "      <td>OES</td>\n",
       "      <td>2016.0</td>\n",
       "      <td>OFLC ONLINE DATA CENTER</td>\n",
       "      <td>102000.0</td>\n",
       "      <td>0.0</td>\n",
       "      <td>Year</td>\n",
       "      <td>Y</td>\n",
       "      <td>N</td>\n",
       "      <td>NJ</td>\n",
       "    </tr>\n",
       "    <tr>\n",
       "      <th>4</th>\n",
       "      <td>CERTIFIED-WITHDRAWN</td>\n",
       "      <td>2015-02-22</td>\n",
       "      <td>2016-10-02</td>\n",
       "      <td>H-1B</td>\n",
       "      <td>2015-03-01</td>\n",
       "      <td>2018-03-01</td>\n",
       "      <td>BB&amp;T CORPORATION</td>\n",
       "      <td>NC</td>\n",
       "      <td>Y</td>\n",
       "      <td>ASSOCIATE - ESOTERIC ASSET BACKED SECURITIES</td>\n",
       "      <td>...</td>\n",
       "      <td>Level III</td>\n",
       "      <td>OES</td>\n",
       "      <td>2015.0</td>\n",
       "      <td>OFLC ONLINE DATA CENTER</td>\n",
       "      <td>132500.0</td>\n",
       "      <td>0.0</td>\n",
       "      <td>Year</td>\n",
       "      <td>N</td>\n",
       "      <td>N</td>\n",
       "      <td>NY</td>\n",
       "    </tr>\n",
       "  </tbody>\n",
       "</table>\n",
       "<p>5 rows × 32 columns</p>\n",
       "</div>"
      ],
      "text/plain": [
       "           CASE_STATUS CASE_SUBMITTED DECISION_DATE VISA_CLASS  \\\n",
       "0  CERTIFIED-WITHDRAWN     2016-02-24    2016-10-01       H-1B   \n",
       "1  CERTIFIED-WITHDRAWN     2016-03-04    2016-10-01       H-1B   \n",
       "2  CERTIFIED-WITHDRAWN     2016-03-10    2016-10-01       H-1B   \n",
       "3            WITHDRAWN     2016-09-28    2016-10-01       H-1B   \n",
       "4  CERTIFIED-WITHDRAWN     2015-02-22    2016-10-02       H-1B   \n",
       "\n",
       "  EMPLOYMENT_START_DATE EMPLOYMENT_END_DATE              EMPLOYER_NAME  \\\n",
       "0            2016-08-10          2019-08-10     DISCOVER PRODUCTS INC.   \n",
       "1            2016-08-16          2019-08-16           DFS SERVICES LLC   \n",
       "2            2016-09-09          2019-09-09  EASTBANC TECHNOLOGIES LLC   \n",
       "3            2017-01-26          2020-01-25          INFO SERVICES LLC   \n",
       "4            2015-03-01          2018-03-01           BB&T CORPORATION   \n",
       "\n",
       "  EMPLOYER_STATE AGENT_REPRESENTING_EMPLOYER  \\\n",
       "0             IL                           Y   \n",
       "1             IL                           Y   \n",
       "2             DC                           Y   \n",
       "3             MI                           N   \n",
       "4             NC                           Y   \n",
       "\n",
       "                                      JOB_TITLE      ...       PW_WAGE_LEVEL  \\\n",
       "0                    ASSOCIATE DATA INTEGRATION      ...             Level I   \n",
       "1                              SENIOR ASSOCIATE      ...                 NaN   \n",
       "2                      .NET SOFTWARE PROGRAMMER      ...            Level II   \n",
       "3                               PROJECT MANAGER      ...           Level III   \n",
       "4  ASSOCIATE - ESOTERIC ASSET BACKED SECURITIES      ...           Level III   \n",
       "\n",
       "  PW_SOURCE  PW_SOURCE_YEAR  \\\n",
       "0       OES          2015.0   \n",
       "1     Other          2015.0   \n",
       "2       OES          2015.0   \n",
       "3       OES          2016.0   \n",
       "4       OES          2015.0   \n",
       "\n",
       "                                     PW_SOURCE_OTHER  WAGE_RATE_OF_PAY_FROM  \\\n",
       "0                            OFLC ONLINE DATA CENTER                65811.0   \n",
       "1  TOWERS WATSON DATA SERVICES 2015 CSR PROFESSIO...                53000.0   \n",
       "2                            OFLC ONLINE DATA CENTER                77000.0   \n",
       "3                            OFLC ONLINE DATA CENTER               102000.0   \n",
       "4                            OFLC ONLINE DATA CENTER               132500.0   \n",
       "\n",
       "   WAGE_RATE_OF_PAY_TO  WAGE_UNIT_OF_PAY  H1B_DEPENDENT  WILLFUL_VIOLATOR  \\\n",
       "0              67320.0              Year              N                 N   \n",
       "1              57200.0              Year              N                 N   \n",
       "2                  0.0              Year              Y                 N   \n",
       "3                  0.0              Year              Y                 N   \n",
       "4                  0.0              Year              N                 N   \n",
       "\n",
       "  WORKSITE_STATE  \n",
       "0             IL  \n",
       "1             IL  \n",
       "2             DC  \n",
       "3             NJ  \n",
       "4             NY  \n",
       "\n",
       "[5 rows x 32 columns]"
      ]
     },
     "execution_count": 18,
     "metadata": {},
     "output_type": "execute_result"
    }
   ],
   "source": [
    "df=df.drop(miss,1)\n",
    "df.head()"
   ]
  },
  {
   "cell_type": "code",
   "execution_count": 19,
   "metadata": {},
   "outputs": [
    {
     "data": {
      "text/plain": [
       "(610304, 32)"
      ]
     },
     "execution_count": 19,
     "metadata": {},
     "output_type": "execute_result"
    }
   ],
   "source": [
    "df.shape"
   ]
  },
  {
   "cell_type": "code",
   "execution_count": 20,
   "metadata": {},
   "outputs": [
    {
     "data": {
      "text/plain": [
       "(610304, 31)"
      ]
     },
     "execution_count": 20,
     "metadata": {},
     "output_type": "execute_result"
    }
   ],
   "source": [
    "df=df.drop(['JOB_TITLE'],1)\n",
    "df.shape"
   ]
  },
  {
   "cell_type": "code",
   "execution_count": 21,
   "metadata": {},
   "outputs": [
    {
     "data": {
      "text/plain": [
       "CASE_STATUS                         0\n",
       "CASE_SUBMITTED                      0\n",
       "DECISION_DATE                       0\n",
       "VISA_CLASS                          0\n",
       "EMPLOYMENT_START_DATE              24\n",
       "EMPLOYMENT_END_DATE                24\n",
       "EMPLOYER_NAME                      54\n",
       "EMPLOYER_STATE                     18\n",
       "AGENT_REPRESENTING_EMPLOYER     92941\n",
       "SOC_NAME                            3\n",
       "NAICS_CODE                          7\n",
       "TOTAL_WORKERS                       0\n",
       "NEW_EMPLOYMENT                      0\n",
       "CONTINUED_EMPLOYMENT                0\n",
       "CHANGE_PREVIOUS_EMPLOYMENT          0\n",
       "NEW_CONCURRENT_EMPLOYMENT           0\n",
       "CHANGE_EMPLOYER                     0\n",
       "AMENDED_PETITION                    0\n",
       "FULL_TIME_POSITION                  5\n",
       "PREVAILING_WAGE                     1\n",
       "PW_UNIT_OF_PAY                     32\n",
       "PW_WAGE_LEVEL                  119458\n",
       "PW_SOURCE                          31\n",
       "PW_SOURCE_YEAR                     31\n",
       "PW_SOURCE_OTHER                  5931\n",
       "WAGE_RATE_OF_PAY_FROM               0\n",
       "WAGE_RATE_OF_PAY_TO                 1\n",
       "WAGE_UNIT_OF_PAY                    8\n",
       "H1B_DEPENDENT                       4\n",
       "WILLFUL_VIOLATOR                    4\n",
       "WORKSITE_STATE                      9\n",
       "dtype: int64"
      ]
     },
     "execution_count": 21,
     "metadata": {},
     "output_type": "execute_result"
    }
   ],
   "source": [
    "df.isnull().sum()"
   ]
  },
  {
   "cell_type": "markdown",
   "metadata": {},
   "source": [
    "Let's cross check once again for missing values. Still there are some missing values."
   ]
  },
  {
   "cell_type": "code",
   "execution_count": 22,
   "metadata": {},
   "outputs": [],
   "source": [
    "#Making Unknown category for large missing and relevant data\n",
    "df['AGENT_REPRESENTING_EMPLOYER']=df['AGENT_REPRESENTING_EMPLOYER'].fillna('Unknown')\n",
    "df['PW_WAGE_LEVEL']=df['PW_WAGE_LEVEL'].fillna('Other')\n",
    "df['H1B_DEPENDENT']=df['H1B_DEPENDENT'].fillna('Unknown')\n",
    "df['WILLFUL_VIOLATOR']=df['WILLFUL_VIOLATOR'].fillna('Unknown')"
   ]
  },
  {
   "cell_type": "markdown",
   "metadata": {},
   "source": [
    "Creating new dummy column for large missing data"
   ]
  },
  {
   "cell_type": "code",
   "execution_count": 23,
   "metadata": {},
   "outputs": [],
   "source": [
    "#df['PW_SOURCE_OTHER']"
   ]
  },
  {
   "cell_type": "code",
   "execution_count": 24,
   "metadata": {},
   "outputs": [],
   "source": [
    "#Dropping useless column\n",
    "df=df.drop(['PW_SOURCE_OTHER'],1)"
   ]
  },
  {
   "cell_type": "code",
   "execution_count": 25,
   "metadata": {},
   "outputs": [],
   "source": [
    "#df.shape"
   ]
  },
  {
   "cell_type": "code",
   "execution_count": 26,
   "metadata": {},
   "outputs": [],
   "source": [
    "cols=df.columns\n",
    "for column in cols:\n",
    "    df[column].fillna(df[column].mode()[0],inplace=True)"
   ]
  },
  {
   "cell_type": "code",
   "execution_count": 27,
   "metadata": {},
   "outputs": [
    {
     "data": {
      "text/plain": [
       "CASE_STATUS                    0\n",
       "CASE_SUBMITTED                 0\n",
       "DECISION_DATE                  0\n",
       "VISA_CLASS                     0\n",
       "EMPLOYMENT_START_DATE          0\n",
       "EMPLOYMENT_END_DATE            0\n",
       "EMPLOYER_NAME                  0\n",
       "EMPLOYER_STATE                 0\n",
       "AGENT_REPRESENTING_EMPLOYER    0\n",
       "SOC_NAME                       0\n",
       "NAICS_CODE                     0\n",
       "TOTAL_WORKERS                  0\n",
       "NEW_EMPLOYMENT                 0\n",
       "CONTINUED_EMPLOYMENT           0\n",
       "CHANGE_PREVIOUS_EMPLOYMENT     0\n",
       "NEW_CONCURRENT_EMPLOYMENT      0\n",
       "CHANGE_EMPLOYER                0\n",
       "AMENDED_PETITION               0\n",
       "FULL_TIME_POSITION             0\n",
       "PREVAILING_WAGE                0\n",
       "PW_UNIT_OF_PAY                 0\n",
       "PW_WAGE_LEVEL                  0\n",
       "PW_SOURCE                      0\n",
       "PW_SOURCE_YEAR                 0\n",
       "WAGE_RATE_OF_PAY_FROM          0\n",
       "WAGE_RATE_OF_PAY_TO            0\n",
       "WAGE_UNIT_OF_PAY               0\n",
       "H1B_DEPENDENT                  0\n",
       "WILLFUL_VIOLATOR               0\n",
       "WORKSITE_STATE                 0\n",
       "dtype: int64"
      ]
     },
     "execution_count": 27,
     "metadata": {},
     "output_type": "execute_result"
    }
   ],
   "source": [
    "df.isnull().sum()"
   ]
  },
  {
   "cell_type": "markdown",
   "metadata": {},
   "source": [
    "Awesome, so all missing values are gone now. Let's move to the feature engineering part."
   ]
  },
  {
   "cell_type": "markdown",
   "metadata": {},
   "source": [
    "# Feature Engineering"
   ]
  },
  {
   "cell_type": "code",
   "execution_count": 28,
   "metadata": {},
   "outputs": [],
   "source": [
    "#Converting columns to days\n",
    "df['CASE_SUBMITTED']=pd.to_datetime(df['CASE_SUBMITTED'])\n",
    "df['DECISION_DATE']=pd.to_datetime(df['DECISION_DATE'])\n",
    "df['DECISION_DAYS']=(df['DECISION_DATE']-df['CASE_SUBMITTED']).dt.days\n",
    "df=df.drop(['CASE_SUBMITTED','DECISION_DATE'],1)"
   ]
  },
  {
   "cell_type": "code",
   "execution_count": 29,
   "metadata": {},
   "outputs": [],
   "source": [
    "df=df[df['PW_SOURCE_YEAR']>1900]\n",
    "df['PW_SOURCE_DURATION']=2019-df['PW_SOURCE_YEAR']\n",
    "df=df.drop(['PW_SOURCE_YEAR'],1)"
   ]
  },
  {
   "cell_type": "code",
   "execution_count": 30,
   "metadata": {},
   "outputs": [],
   "source": [
    "#Converting columns into duration\n",
    "df['EMPLOYMENT_END_DATE']=pd.to_datetime(df['EMPLOYMENT_END_DATE'])\n",
    "df['EMPLOYMENT_START_DATE']=pd.to_datetime(df['EMPLOYMENT_START_DATE'])\n",
    "df['EMPLOYMENT_DURATION']=(df['EMPLOYMENT_END_DATE']-df['EMPLOYMENT_START_DATE']).dt.days\n",
    "df=df.drop(['EMPLOYMENT_START_DATE','EMPLOYMENT_END_DATE'],1)"
   ]
  },
  {
   "cell_type": "markdown",
   "metadata": {},
   "source": [
    "Converting the two columns 'EMPLOYMENT_START_DATE' and 'EMPLOYMENT_END_DATE' into pandas date time format and \n",
    "\n",
    "then into 'EMPLOYMENT_DURATION'"
   ]
  },
  {
   "cell_type": "code",
   "execution_count": 31,
   "metadata": {},
   "outputs": [
    {
     "data": {
      "text/plain": [
       "Year         572543\n",
       "Hour          37305\n",
       "Month           295\n",
       "Week            113\n",
       "Bi-Weekly        45\n",
       "Name: PW_UNIT_OF_PAY, dtype: int64"
      ]
     },
     "execution_count": 31,
     "metadata": {},
     "output_type": "execute_result"
    }
   ],
   "source": [
    "df['PW_UNIT_OF_PAY'].value_counts()"
   ]
  },
  {
   "cell_type": "code",
   "execution_count": 32,
   "metadata": {},
   "outputs": [
    {
     "data": {
      "text/html": [
       "<div>\n",
       "<style scoped>\n",
       "    .dataframe tbody tr th:only-of-type {\n",
       "        vertical-align: middle;\n",
       "    }\n",
       "\n",
       "    .dataframe tbody tr th {\n",
       "        vertical-align: top;\n",
       "    }\n",
       "\n",
       "    .dataframe thead th {\n",
       "        text-align: right;\n",
       "    }\n",
       "</style>\n",
       "<table border=\"1\" class=\"dataframe\">\n",
       "  <thead>\n",
       "    <tr style=\"text-align: right;\">\n",
       "      <th></th>\n",
       "      <th></th>\n",
       "      <th>count</th>\n",
       "      <th>mean</th>\n",
       "      <th>std</th>\n",
       "      <th>min</th>\n",
       "      <th>25%</th>\n",
       "      <th>50%</th>\n",
       "      <th>75%</th>\n",
       "      <th>max</th>\n",
       "    </tr>\n",
       "    <tr>\n",
       "      <th>FULL_TIME_POSITION</th>\n",
       "      <th>PW_UNIT_OF_PAY</th>\n",
       "      <th></th>\n",
       "      <th></th>\n",
       "      <th></th>\n",
       "      <th></th>\n",
       "      <th></th>\n",
       "      <th></th>\n",
       "      <th></th>\n",
       "      <th></th>\n",
       "    </tr>\n",
       "  </thead>\n",
       "  <tbody>\n",
       "    <tr>\n",
       "      <th rowspan=\"2\" valign=\"top\">N</th>\n",
       "      <th>Hour</th>\n",
       "      <td>13347.0</td>\n",
       "      <td>32.608866</td>\n",
       "      <td>23.776460</td>\n",
       "      <td>7.25</td>\n",
       "      <td>22.81</td>\n",
       "      <td>27.95</td>\n",
       "      <td>35.71</td>\n",
       "      <td>2017.0</td>\n",
       "    </tr>\n",
       "    <tr>\n",
       "      <th>Year</th>\n",
       "      <td>17.0</td>\n",
       "      <td>57669.764706</td>\n",
       "      <td>38096.010842</td>\n",
       "      <td>0.00</td>\n",
       "      <td>38584.00</td>\n",
       "      <td>52478.00</td>\n",
       "      <td>83304.00</td>\n",
       "      <td>135387.0</td>\n",
       "    </tr>\n",
       "    <tr>\n",
       "      <th rowspan=\"5\" valign=\"top\">Y</th>\n",
       "      <th>Bi-Weekly</th>\n",
       "      <td>45.0</td>\n",
       "      <td>9145.600889</td>\n",
       "      <td>24956.450419</td>\n",
       "      <td>700.00</td>\n",
       "      <td>2064.09</td>\n",
       "      <td>2446.46</td>\n",
       "      <td>4120.00</td>\n",
       "      <td>145000.0</td>\n",
       "    </tr>\n",
       "    <tr>\n",
       "      <th>Hour</th>\n",
       "      <td>23958.0</td>\n",
       "      <td>305.431696</td>\n",
       "      <td>4338.619456</td>\n",
       "      <td>0.00</td>\n",
       "      <td>26.33</td>\n",
       "      <td>32.50</td>\n",
       "      <td>39.43</td>\n",
       "      <td>192962.0</td>\n",
       "    </tr>\n",
       "    <tr>\n",
       "      <th>Month</th>\n",
       "      <td>295.0</td>\n",
       "      <td>8023.570644</td>\n",
       "      <td>16339.188872</td>\n",
       "      <td>0.00</td>\n",
       "      <td>3206.00</td>\n",
       "      <td>4135.00</td>\n",
       "      <td>5968.00</td>\n",
       "      <td>148283.0</td>\n",
       "    </tr>\n",
       "    <tr>\n",
       "      <th>Week</th>\n",
       "      <td>113.0</td>\n",
       "      <td>4143.821770</td>\n",
       "      <td>12832.266642</td>\n",
       "      <td>0.00</td>\n",
       "      <td>943.20</td>\n",
       "      <td>1135.19</td>\n",
       "      <td>1463.84</td>\n",
       "      <td>74734.0</td>\n",
       "    </tr>\n",
       "    <tr>\n",
       "      <th>Year</th>\n",
       "      <td>572526.0</td>\n",
       "      <td>77763.491641</td>\n",
       "      <td>268051.144977</td>\n",
       "      <td>0.00</td>\n",
       "      <td>60000.00</td>\n",
       "      <td>71843.00</td>\n",
       "      <td>90376.00</td>\n",
       "      <td>201622735.0</td>\n",
       "    </tr>\n",
       "  </tbody>\n",
       "</table>\n",
       "</div>"
      ],
      "text/plain": [
       "                                      count          mean            std  \\\n",
       "FULL_TIME_POSITION PW_UNIT_OF_PAY                                          \n",
       "N                  Hour             13347.0     32.608866      23.776460   \n",
       "                   Year                17.0  57669.764706   38096.010842   \n",
       "Y                  Bi-Weekly           45.0   9145.600889   24956.450419   \n",
       "                   Hour             23958.0    305.431696    4338.619456   \n",
       "                   Month              295.0   8023.570644   16339.188872   \n",
       "                   Week               113.0   4143.821770   12832.266642   \n",
       "                   Year            572526.0  77763.491641  268051.144977   \n",
       "\n",
       "                                      min       25%       50%       75%  \\\n",
       "FULL_TIME_POSITION PW_UNIT_OF_PAY                                         \n",
       "N                  Hour              7.25     22.81     27.95     35.71   \n",
       "                   Year              0.00  38584.00  52478.00  83304.00   \n",
       "Y                  Bi-Weekly       700.00   2064.09   2446.46   4120.00   \n",
       "                   Hour              0.00     26.33     32.50     39.43   \n",
       "                   Month             0.00   3206.00   4135.00   5968.00   \n",
       "                   Week              0.00    943.20   1135.19   1463.84   \n",
       "                   Year              0.00  60000.00  71843.00  90376.00   \n",
       "\n",
       "                                           max  \n",
       "FULL_TIME_POSITION PW_UNIT_OF_PAY               \n",
       "N                  Hour                 2017.0  \n",
       "                   Year               135387.0  \n",
       "Y                  Bi-Weekly          145000.0  \n",
       "                   Hour               192962.0  \n",
       "                   Month              148283.0  \n",
       "                   Week                74734.0  \n",
       "                   Year            201622735.0  "
      ]
     },
     "execution_count": 32,
     "metadata": {},
     "output_type": "execute_result"
    }
   ],
   "source": [
    "df.groupby(['FULL_TIME_POSITION','PW_UNIT_OF_PAY']).describe()['PREVAILING_WAGE']"
   ]
  },
  {
   "cell_type": "markdown",
   "metadata": {},
   "source": [
    "The above cells shows us how the wage is varied\n",
    "\n",
    "1.You might notice some abnormal values like the max hourly pay as 2017.0,etc,etc.\n",
    "\n",
    "2.These are called outliers and our data has lot of it."
   ]
  },
  {
   "cell_type": "code",
   "execution_count": 33,
   "metadata": {},
   "outputs": [],
   "source": [
    "df.loc[df['PW_UNIT_OF_PAY']=='Month','PREVAILING_WAGE']=df.loc[df['PW_UNIT_OF_PAY']=='Month','PREVAILING_WAGE']*12\n",
    "df.loc[df['PW_UNIT_OF_PAY']=='Week','PREVAILING_WAGE']=df.loc[df['PW_UNIT_OF_PAY']=='Week','PREVAILING_WAGE']*52\n",
    "df.loc[df['PW_UNIT_OF_PAY']=='Hour','PREVAILING_WAGE']=df.loc[df['PW_UNIT_OF_PAY']=='Hour','PREVAILING_WAGE']*8*5*52\n",
    "df.loc[df['PW_UNIT_OF_PAY']=='Bi-Weekly','PREVAILING_WAGE']=df.loc[df['PW_UNIT_OF_PAY']=='Bi-Weekly','PREVAILING_WAGE']*26\n",
    "df=df.drop(['PW_UNIT_OF_PAY'],1)"
   ]
  },
  {
   "cell_type": "code",
   "execution_count": 34,
   "metadata": {},
   "outputs": [
    {
     "data": {
      "text/plain": [
       "Year         572644\n",
       "Hour          36987\n",
       "Month           419\n",
       "Week            151\n",
       "Bi-Weekly       100\n",
       "Name: WAGE_UNIT_OF_PAY, dtype: int64"
      ]
     },
     "execution_count": 34,
     "metadata": {},
     "output_type": "execute_result"
    }
   ],
   "source": [
    "df['WAGE_UNIT_OF_PAY'].value_counts()"
   ]
  },
  {
   "cell_type": "code",
   "execution_count": 35,
   "metadata": {},
   "outputs": [],
   "source": [
    "#Transforming the wage column into same unit \"Year\"\n",
    "df.loc[df['WAGE_UNIT_OF_PAY']=='Month','WAGE_RATE_OF_PAY_FROM']=df.loc[df['WAGE_UNIT_OF_PAY']=='Month','WAGE_RATE_OF_PAY_FROM']*12\n",
    "df.loc[df['WAGE_UNIT_OF_PAY']=='Week','WAGE_RATE_OF_PAY_FROM']=df.loc[df['WAGE_UNIT_OF_PAY']=='Week','WAGE_RATE_OF_PAY_FROM']*52\n",
    "df.loc[df['WAGE_UNIT_OF_PAY']=='Hour','WAGE_RATE_OF_PAY_FROM']=df.loc[df['WAGE_UNIT_OF_PAY']=='Hour','WAGE_RATE_OF_PAY_FROM']*8*5*52\n",
    "df.loc[df['WAGE_UNIT_OF_PAY']=='Bi-Weekly','WAGE_RATE_OF_PAY_FROM']=df.loc[df['WAGE_UNIT_OF_PAY']=='Bi-Weekly','WAGE_RATE_OF_PAY_FROM']*26"
   ]
  },
  {
   "cell_type": "code",
   "execution_count": 36,
   "metadata": {},
   "outputs": [],
   "source": [
    "df.loc[df['WAGE_UNIT_OF_PAY']=='Month','WAGE_RATE_OF_PAY_TO']=df.loc[df['WAGE_UNIT_OF_PAY']=='Month','WAGE_RATE_OF_PAY_TO']*12\n",
    "df.loc[df['WAGE_UNIT_OF_PAY']=='Week','WAGE_RATE_OF_PAY_TO']=df.loc[df['WAGE_UNIT_OF_PAY']=='Week','WAGE_RATE_OF_PAY_TO']*52\n",
    "df.loc[df['WAGE_UNIT_OF_PAY']=='Hour','WAGE_RATE_OF_PAY_TO']=df.loc[df['WAGE_UNIT_OF_PAY']=='Hour','WAGE_RATE_OF_PAY_TO']*8*5*52\n",
    "df.loc[df['WAGE_UNIT_OF_PAY']=='Bi-Weekly','WAGE_RATE_OF_PAY_TO']=df.loc[df['WAGE_UNIT_OF_PAY']=='Bi-Weekly','WAGE_RATE_OF_PAY_TO']*26\n",
    "df=df.drop(['WAGE_UNIT_OF_PAY'],1)"
   ]
  },
  {
   "cell_type": "markdown",
   "metadata": {},
   "source": [
    "To make our analysis easy In above part we have use some logic for getting wages on one unit(year). \n",
    "\n",
    "Let's first convert Month,Week,Hour,Bi-Weekly into annual pay: \n",
    "1. Monthly pay is multiplied by 12.(As we have 12 months per year)\n",
    "2. Weekly pay is multiplied by 52.(As we have 52 weeks per year)\n",
    "3. Hourly pay is multiplied by 8*5*52.(we have used here logic 8hr per day,5day per week,52week per year )\n",
    "4. Bi-weekly pay is multiplied by *26. (As We have 2 bi-weeks per year.)"
   ]
  },
  {
   "cell_type": "markdown",
   "metadata": {},
   "source": [
    "# Encoding Categorical and Numerical data"
   ]
  },
  {
   "cell_type": "code",
   "execution_count": 37,
   "metadata": {},
   "outputs": [
    {
     "data": {
      "text/plain": [
       "CERTIFIED              533620\n",
       "CERTIFIED-WITHDRAWN     48880\n",
       "WITHDRAWN               20322\n",
       "DENIED                   7479\n",
       "Name: CASE_STATUS, dtype: int64"
      ]
     },
     "execution_count": 37,
     "metadata": {},
     "output_type": "execute_result"
    }
   ],
   "source": [
    "df['CASE_STATUS'].value_counts()"
   ]
  },
  {
   "cell_type": "markdown",
   "metadata": {},
   "source": [
    "About 'CASE STATUS':Status associated with the last significant event or decision.\n",
    "\n",
    "Valid values include “Certified,” “Certified-Withdrawn,” Denied,” and “Withdrawn”\n",
    "\n",
    "Looking at the above we understood that there are too many cateogical feature with unique counts.\n",
    "So this a class imbalance problem.\n",
    "\n",
    "With imbalanced data sets, an algorithm doesn’t get the necessary information about the minority class to make an accurate prediction. Hence, it is desirable to use ML algorithms with balanced data sets. Then, how should we deal with imbalanced data sets ? The methods are simple. we used 2 approaches:\n",
    "\n",
    "As the above data contains categorical data and we know machine learning is based on Mathematical equations.\n",
    "So we have encoded our data so that machine will understand. There are 2 ways to encode our data.\n",
    "\n",
    "1.Label Encoder:It is used to transform non-numerical labels to numerical labels (or nominal categorical variables). Numerical labels are always between 0 and n_classes-1\n",
    "\n",
    "2.One-Hot-Encoder:One-Hot Encoding transforms each categorical feature with n possible values into n binary features, with only one active.\n",
    "\n",
    "In our case we used LabelEncoder."
   ]
  },
  {
   "cell_type": "code",
   "execution_count": 38,
   "metadata": {},
   "outputs": [],
   "source": [
    "#Transforming target into two classes\n",
    "df.loc[df['CASE_STATUS']=='DENIED','NEW_CASE_STATUS']='NOT_CERTIFIED'\n",
    "df.loc[df['CASE_STATUS']=='WITHDRAWN','NEW_CASE_STATUS']='NOT_CERTIFIED'\n",
    "df.loc[df['CASE_STATUS']=='CERTIFIED','NEW_CASE_STATUS']='CERTIFIED'\n",
    "df=df.drop(['CASE_STATUS'],1)"
   ]
  },
  {
   "cell_type": "markdown",
   "metadata": {},
   "source": [
    "We have transform the 'DENIED' and 'WITHDRAW' into 'NOT_CERTIFIED' category and 'CERTIFIED' into 'CERTIFIED' category.\n",
    "\n",
    "And removed the 'CERTIFIED_WITHDWARN' column"
   ]
  },
  {
   "cell_type": "code",
   "execution_count": 39,
   "metadata": {},
   "outputs": [],
   "source": [
    "df=df[(df['NEW_CASE_STATUS']=='CERTIFIED') | (df['NEW_CASE_STATUS']=='NOT_CERTIFIED')]"
   ]
  },
  {
   "cell_type": "code",
   "execution_count": 40,
   "metadata": {},
   "outputs": [],
   "source": [
    "df=df.drop(['VISA_CLASS'],1)"
   ]
  },
  {
   "cell_type": "code",
   "execution_count": 41,
   "metadata": {},
   "outputs": [
    {
     "data": {
      "text/plain": [
       "Index(['EMPLOYER_NAME', 'EMPLOYER_STATE', 'AGENT_REPRESENTING_EMPLOYER',\n",
       "       'SOC_NAME', 'NAICS_CODE', 'TOTAL_WORKERS', 'NEW_EMPLOYMENT',\n",
       "       'CONTINUED_EMPLOYMENT', 'CHANGE_PREVIOUS_EMPLOYMENT',\n",
       "       'NEW_CONCURRENT_EMPLOYMENT', 'CHANGE_EMPLOYER', 'AMENDED_PETITION',\n",
       "       'FULL_TIME_POSITION', 'PREVAILING_WAGE', 'PW_WAGE_LEVEL', 'PW_SOURCE',\n",
       "       'WAGE_RATE_OF_PAY_FROM', 'WAGE_RATE_OF_PAY_TO', 'H1B_DEPENDENT',\n",
       "       'WILLFUL_VIOLATOR', 'WORKSITE_STATE', 'DECISION_DAYS',\n",
       "       'PW_SOURCE_DURATION', 'EMPLOYMENT_DURATION', 'NEW_CASE_STATUS'],\n",
       "      dtype='object')"
      ]
     },
     "execution_count": 41,
     "metadata": {},
     "output_type": "execute_result"
    }
   ],
   "source": [
    "df.columns"
   ]
  },
  {
   "cell_type": "code",
   "execution_count": 42,
   "metadata": {},
   "outputs": [],
   "source": [
    "#Drop the useless column\n",
    "df=df.drop(['WAGE_RATE_OF_PAY_TO'],1)"
   ]
  },
  {
   "cell_type": "code",
   "execution_count": 43,
   "metadata": {},
   "outputs": [],
   "source": [
    "df_num=df.select_dtypes(include=[np.number])\n",
    "df_cat=df.select_dtypes(exclude=[np.number])\n",
    "df_cat_not_encoded=df.select_dtypes(exclude=[np.number])"
   ]
  },
  {
   "cell_type": "code",
   "execution_count": 44,
   "metadata": {},
   "outputs": [],
   "source": [
    "df_cat=df_cat.drop(['NAICS_CODE'],1)"
   ]
  },
  {
   "cell_type": "markdown",
   "metadata": {},
   "source": [
    "Drop the useless column 'NAICS_CODE' from the encoded categorical column"
   ]
  },
  {
   "cell_type": "code",
   "execution_count": 45,
   "metadata": {},
   "outputs": [],
   "source": [
    "#Label Encoding\n",
    "from sklearn.preprocessing import LabelEncoder\n",
    "le=LabelEncoder()\n",
    "cols=df_cat.columns\n",
    "for val in cols:\n",
    "    df_cat[val]=df_cat[val].astype('category')\n",
    "    df_cat['Original'+str(val)]=df_cat[val]\n",
    "    df_cat[val]=le.fit_transform(df_cat[val])"
   ]
  },
  {
   "cell_type": "code",
   "execution_count": 46,
   "metadata": {},
   "outputs": [
    {
     "data": {
      "text/plain": [
       "Index(['EMPLOYER_NAME', 'EMPLOYER_STATE', 'AGENT_REPRESENTING_EMPLOYER',\n",
       "       'SOC_NAME', 'FULL_TIME_POSITION', 'PW_WAGE_LEVEL', 'PW_SOURCE',\n",
       "       'H1B_DEPENDENT', 'WILLFUL_VIOLATOR', 'WORKSITE_STATE',\n",
       "       'NEW_CASE_STATUS', 'OriginalEMPLOYER_NAME', 'OriginalEMPLOYER_STATE',\n",
       "       'OriginalAGENT_REPRESENTING_EMPLOYER', 'OriginalSOC_NAME',\n",
       "       'OriginalFULL_TIME_POSITION', 'OriginalPW_WAGE_LEVEL',\n",
       "       'OriginalPW_SOURCE', 'OriginalH1B_DEPENDENT',\n",
       "       'OriginalWILLFUL_VIOLATOR', 'OriginalWORKSITE_STATE',\n",
       "       'OriginalNEW_CASE_STATUS'],\n",
       "      dtype='object')"
      ]
     },
     "execution_count": 46,
     "metadata": {},
     "output_type": "execute_result"
    }
   ],
   "source": [
    "df_cat.columns"
   ]
  },
  {
   "cell_type": "code",
   "execution_count": 47,
   "metadata": {},
   "outputs": [
    {
     "data": {
      "text/plain": [
       "Index(['TOTAL_WORKERS', 'NEW_EMPLOYMENT', 'CONTINUED_EMPLOYMENT',\n",
       "       'CHANGE_PREVIOUS_EMPLOYMENT', 'NEW_CONCURRENT_EMPLOYMENT',\n",
       "       'CHANGE_EMPLOYER', 'AMENDED_PETITION', 'PREVAILING_WAGE',\n",
       "       'WAGE_RATE_OF_PAY_FROM', 'DECISION_DAYS', 'PW_SOURCE_DURATION',\n",
       "       'EMPLOYMENT_DURATION'],\n",
       "      dtype='object')"
      ]
     },
     "execution_count": 47,
     "metadata": {},
     "output_type": "execute_result"
    }
   ],
   "source": [
    "df_num.columns"
   ]
  },
  {
   "cell_type": "code",
   "execution_count": 48,
   "metadata": {},
   "outputs": [],
   "source": [
    "df_cat_encoded=df_cat[['EMPLOYER_NAME','EMPLOYER_STATE','AGENT_REPRESENTING_EMPLOYER','SOC_NAME','FULL_TIME_POSITION','PW_WAGE_LEVEL','PW_SOURCE','H1B_DEPENDENT','WILLFUL_VIOLATOR','WORKSITE_STATE','NEW_CASE_STATUS']]"
   ]
  },
  {
   "cell_type": "code",
   "execution_count": 49,
   "metadata": {},
   "outputs": [],
   "source": [
    "# Concatenating numerical and categorical column into pandas dataframe\n",
    "df_tot=pd.concat([df_num,df_cat],1)\n",
    "df=pd.concat([df_num,df_cat_encoded],1)"
   ]
  },
  {
   "cell_type": "code",
   "execution_count": 50,
   "metadata": {},
   "outputs": [
    {
     "data": {
      "image/png": "[encoded data removed]",
      "text/plain": [
       "<Figure size 432x288 with 1 Axes>"
      ]
     },
     "metadata": {
      "needs_background": "light"
     },
     "output_type": "display_data"
    }
   ],
   "source": [
    "#Visualizing data\n",
    "plt.scatter(df['DECISION_DAYS'],df['NEW_CASE_STATUS'])\n",
    "plt.title('Decision Days V/S New Case Status')\n",
    "plt.show()"
   ]
  },
  {
   "cell_type": "code",
   "execution_count": 51,
   "metadata": {},
   "outputs": [
    {
     "data": {
      "text/plain": [
       "count    533620.000000\n",
       "mean          5.744888\n",
       "std           0.894924\n",
       "min           4.000000\n",
       "25%           6.000000\n",
       "50%           6.000000\n",
       "75%           6.000000\n",
       "max          11.000000\n",
       "Name: DECISION_DAYS, dtype: float64"
      ]
     },
     "execution_count": 51,
     "metadata": {},
     "output_type": "execute_result"
    }
   ],
   "source": [
    "df[df['NEW_CASE_STATUS']==0]['DECISION_DAYS'].describe()"
   ]
  },
  {
   "cell_type": "code",
   "execution_count": 52,
   "metadata": {},
   "outputs": [
    {
     "data": {
      "text/plain": [
       "count    27801.000000\n",
       "mean        87.434948\n",
       "std        246.064620\n",
       "min          0.000000\n",
       "25%          0.000000\n",
       "50%          2.000000\n",
       "75%          5.000000\n",
       "max       1863.000000\n",
       "Name: DECISION_DAYS, dtype: float64"
      ]
     },
     "execution_count": 52,
     "metadata": {},
     "output_type": "execute_result"
    }
   ],
   "source": [
    "df[df['NEW_CASE_STATUS']==1]['DECISION_DAYS'].describe()"
   ]
  },
  {
   "cell_type": "markdown",
   "metadata": {},
   "source": [
    "# Building Machine Learning Model"
   ]
  },
  {
   "cell_type": "code",
   "execution_count": 53,
   "metadata": {},
   "outputs": [],
   "source": [
    "df_minor = df[df[\"NEW_CASE_STATUS\"]==1]\n",
    "df_major = df[df[\"NEW_CASE_STATUS\"]==0]\n",
    "df_major = df_major.sample(n=40000)\n",
    "df = pd.concat([df_minor,df_major])"
   ]
  },
  {
   "cell_type": "code",
   "execution_count": 54,
   "metadata": {},
   "outputs": [],
   "source": [
    "X=df.drop(['NEW_CASE_STATUS','DECISION_DAYS'],1)\n",
    "y=df['NEW_CASE_STATUS']"
   ]
  },
  {
   "cell_type": "code",
   "execution_count": 55,
   "metadata": {},
   "outputs": [],
   "source": [
    "col1=list(X)"
   ]
  },
  {
   "cell_type": "code",
   "execution_count": 56,
   "metadata": {},
   "outputs": [],
   "source": [
    "#SMOTE for high-dimensional class-imbalanced data\n",
    "sm=SMOTE(random_state=42)\n",
    "X_res,y_res=sm.fit_resample(X,y)\n",
    "y_s=pd.Series(y_res)"
   ]
  },
  {
   "cell_type": "code",
   "execution_count": 57,
   "metadata": {},
   "outputs": [],
   "source": [
    "#Spliting Data into Train and Test Set\n",
    "X_train,X_test,y_train,y_test=tts(X,y,test_size=0.3,random_state=42)"
   ]
  },
  {
   "cell_type": "markdown",
   "metadata": {},
   "source": [
    "Random Forest Classifier"
   ]
  },
  {
   "cell_type": "code",
   "execution_count": 58,
   "metadata": {},
   "outputs": [],
   "source": [
    "rfc=RandomForestClassifier(random_state=42,n_estimators=100)\n",
    "rfc.fit(X_train,y_train)\n",
    "y_pred=rfc.predict(X_test)"
   ]
  },
  {
   "cell_type": "code",
   "execution_count": 59,
   "metadata": {},
   "outputs": [
    {
     "name": "stdout",
     "output_type": "stream",
     "text": [
      "0.7144191534339511\n"
     ]
    }
   ],
   "source": [
    "print(accuracy_score(y_test,y_pred))"
   ]
  },
  {
   "cell_type": "code",
   "execution_count": 60,
   "metadata": {},
   "outputs": [
    {
     "name": "stdout",
     "output_type": "stream",
     "text": [
      "              precision    recall  f1-score   support\n",
      "\n",
      "           0       0.72      0.84      0.78     12091\n",
      "           1       0.69      0.53      0.60      8250\n",
      "\n",
      "   micro avg       0.71      0.71      0.71     20341\n",
      "   macro avg       0.71      0.69      0.69     20341\n",
      "weighted avg       0.71      0.71      0.71     20341\n",
      "\n"
     ]
    }
   ],
   "source": [
    "print(classification_report(y_test,y_pred))"
   ]
  },
  {
   "cell_type": "code",
   "execution_count": 61,
   "metadata": {},
   "outputs": [
    {
     "data": {
      "image/png": "[encoded data removed]",
      "text/plain": [
       "<Figure size 432x288 with 1 Axes>"
      ]
     },
     "metadata": {
      "needs_background": "light"
     },
     "output_type": "display_data"
    }
   ],
   "source": [
    "#Feature Importances\n",
    "fi=pd.Series(rfc.feature_importances_,index=list(X)).sort_values(ascending=True).plot(kind='barh')\n",
    "plt.show()"
   ]
  },
  {
   "cell_type": "code",
   "execution_count": 62,
   "metadata": {},
   "outputs": [],
   "source": [
    "dt=DecisionTreeClassifier()\n",
    "dt.fit(X_train,y_train)\n",
    "y_pred_dt=dt.predict(X_test)"
   ]
  },
  {
   "cell_type": "code",
   "execution_count": 63,
   "metadata": {},
   "outputs": [
    {
     "name": "stdout",
     "output_type": "stream",
     "text": [
      "0.7112236369893319\n"
     ]
    }
   ],
   "source": [
    "bag_clf=BaggingClassifier(base_estimator=dt,n_estimators=50,bootstrap=True,n_jobs=-1,random_state=42)\n",
    "bag_clf.fit(X_train,y_train)\n",
    "y_pred_bag=bag_clf.predict(X_test)\n",
    "print(accuracy_score(y_test,y_pred_bag))"
   ]
  },
  {
   "cell_type": "code",
   "execution_count": 64,
   "metadata": {},
   "outputs": [
    {
     "name": "stdout",
     "output_type": "stream",
     "text": [
      "0.6718450420333317\n"
     ]
    }
   ],
   "source": [
    "ada_clf=AdaBoostClassifier(dt,n_estimators=50)\n",
    "ada_clf.fit(X_train,y_train)\n",
    "y_pred_ada=ada_clf.predict(X_test)\n",
    "print(accuracy_score(y_test,y_pred_ada))"
   ]
  },
  {
   "cell_type": "code",
   "execution_count": 65,
   "metadata": {},
   "outputs": [
    {
     "name": "stdout",
     "output_type": "stream",
     "text": [
      "0.6852662111007325\n"
     ]
    }
   ],
   "source": [
    "gb=GradientBoostingClassifier(max_depth=4)\n",
    "gb.fit(X_train,y_train)\n",
    "y_pred_gb=gb.predict(X_test)\n",
    "print(accuracy_score(y_test,y_pred_gb))"
   ]
  },
  {
   "cell_type": "code",
   "execution_count": 66,
   "metadata": {},
   "outputs": [
    {
     "name": "stdout",
     "output_type": "stream",
     "text": [
      "0.6741556462317487\n"
     ]
    }
   ],
   "source": [
    "xgb_clf=xgb.XGBClassifier()\n",
    "xgb_clf.fit(X_train,y_train.ravel())\n",
    "y_pred_xgb=xgb_clf.predict(X_test)\n",
    "print(accuracy_score(y_test,y_pred_xgb))"
   ]
  },
  {
   "cell_type": "markdown",
   "metadata": {},
   "source": [
    "# Data Insights"
   ]
  },
  {
   "cell_type": "code",
   "execution_count": 67,
   "metadata": {},
   "outputs": [
    {
     "data": {
      "image/png": "[encoded data removed]",
      "text/plain": [
       "<Figure size 1080x720 with 1 Axes>"
      ]
     },
     "metadata": {
      "needs_background": "light"
     },
     "output_type": "display_data"
    }
   ],
   "source": [
    "res=df.groupby(['PW_SOURCE_DURATION','NEW_CASE_STATUS']).size().unstack()\n",
    "res.plot(kind='bar',stacked=False,figsize=(15,10))\n",
    "plt.show()"
   ]
  },
  {
   "cell_type": "code",
   "execution_count": 68,
   "metadata": {},
   "outputs": [
    {
     "data": {
      "text/plain": [
       "array([28167, 55501,  9970, 55673, 27137, 15817,   921, 19413, 63281,\n",
       "       25338], dtype=int64)"
      ]
     },
     "execution_count": 68,
     "metadata": {},
     "output_type": "execute_result"
    }
   ],
   "source": [
    "d=df[df['NEW_CASE_STATUS']==0]\n",
    "emp_certified=d['EMPLOYER_NAME'].value_counts()\n",
    "top_10_emp_certified=emp_certified.sort_values(ascending=False).head(10)\n",
    "top_cert=top_10_emp_certified.index.values\n",
    "top_cert"
   ]
  },
  {
   "cell_type": "code",
   "execution_count": 69,
   "metadata": {},
   "outputs": [],
   "source": [
    "df_top_10 = df_tot[(df_tot[\"EMPLOYER_NAME\"]==28167) | (df_tot[\"EMPLOYER_NAME\"]==27137) | (df_tot[\"EMPLOYER_NAME\"]==55501) | (df_tot[\"EMPLOYER_NAME\"]==9970) | (df_tot[\"EMPLOYER_NAME\"]==27134) | (df_tot[\"EMPLOYER_NAME\"]==15817) | (df_tot[\"EMPLOYER_NAME\"]==55673) | (df_tot[\"EMPLOYER_NAME\"]==921) | (df_tot[\"EMPLOYER_NAME\"]==19413) | (df_tot[\"EMPLOYER_NAME\"]==63281)]"
   ]
  },
  {
   "cell_type": "markdown",
   "metadata": {},
   "source": [
    "Top Employers and it's case status bar"
   ]
  },
  {
   "cell_type": "code",
   "execution_count": 70,
   "metadata": {},
   "outputs": [
    {
     "data": {
      "image/png": "[encoded data removed]",
      "text/plain": [
       "<Figure size 720x576 with 1 Axes>"
      ]
     },
     "metadata": {
      "needs_background": "light"
     },
     "output_type": "display_data"
    }
   ],
   "source": [
    "res=df_top_10.groupby(['OriginalEMPLOYER_NAME','NEW_CASE_STATUS']).size().unstack()\n",
    "res.plot(kind='bar',stacked=True,figsize=(10,8))\n",
    "plt.xticks(rotation=45)\n",
    "plt.show()"
   ]
  },
  {
   "cell_type": "code",
   "execution_count": 71,
   "metadata": {},
   "outputs": [
    {
     "data": {
      "text/plain": [
       "array([710, 198, 183, 175, 197, 716, 469,  10, 543, 500], dtype=int64)"
      ]
     },
     "execution_count": 71,
     "metadata": {},
     "output_type": "execute_result"
    }
   ],
   "source": [
    "d1=df[df['NEW_CASE_STATUS']==0]\n",
    "soc=d1['SOC_NAME'].value_counts()\n",
    "top_10_soc=soc.sort_values(ascending=False).head(10)\n",
    "top_soc=top_10_soc.index.values\n",
    "top_soc"
   ]
  },
  {
   "cell_type": "code",
   "execution_count": 72,
   "metadata": {
    "scrolled": true
   },
   "outputs": [],
   "source": [
    "df_top_10_soc = df_tot[(df_tot[\"SOC_NAME\"]==710) | (df_tot[\"SOC_NAME\"]==198) | (df_tot[\"SOC_NAME\"]==183) | (df_tot[\"SOC_NAME\"]==175) | (df_tot[\"SOC_NAME\"]==197) | (df_tot[\"SOC_NAME\"]==716) | (df_tot[\"SOC_NAME\"]==469) | (df_tot[\"SOC_NAME\"]==10) | (df_tot[\"SOC_NAME\"]==543) | (df_tot[\"SOC_NAME\"]==563)]"
   ]
  },
  {
   "cell_type": "markdown",
   "metadata": {},
   "source": [
    "Top 10 SOC NAMES and it's case status bar"
   ]
  },
  {
   "cell_type": "code",
   "execution_count": 73,
   "metadata": {},
   "outputs": [
    {
     "data": {
      "image/png": "[encoded data removed]",
      "text/plain": [
       "<Figure size 1080x720 with 1 Axes>"
      ]
     },
     "metadata": {
      "needs_background": "light"
     },
     "output_type": "display_data"
    }
   ],
   "source": [
    "res=df_top_10_soc.groupby(['OriginalSOC_NAME','NEW_CASE_STATUS']).size().unstack()\n",
    "res.plot(kind='bar',stacked=False,figsize=(15,10))\n",
    "plt.show()"
   ]
  },
  {
   "cell_type": "code",
   "execution_count": 74,
   "metadata": {},
   "outputs": [
    {
     "data": {
      "image/png": "[encoded data removed]",
      "text/plain": [
       "<Figure size 720x576 with 1 Axes>"
      ]
     },
     "metadata": {
      "needs_background": "light"
     },
     "output_type": "display_data"
    }
   ],
   "source": [
    "res = df_tot.groupby(['OriginalAGENT_REPRESENTING_EMPLOYER','NEW_CASE_STATUS']).size().unstack()\n",
    "res.plot(kind='bar',stacked=False,figsize=(10,8))\n",
    "plt.xticks(rotation = 45)\n",
    "plt.show()"
   ]
  },
  {
   "cell_type": "markdown",
   "metadata": {},
   "source": [
    "In the end, it is indeed possible to predict the outcome of H-1B Visa applications based on the attributes of the applicant using machine learning\n",
    "Out of the models i tried Below are the accuracies using different models:\n",
    "1. Decision Tree with bagging\n",
    "2. Random Forest \n",
    "3. XGBoost\n",
    "\n",
    "If we had more time and computational resources, there are several directions we could take to improve our prediction algorithm."
   ]
  }
 ],
 "metadata": {
  "kernelspec": {
   "display_name": "Python 3",
   "language": "python",
   "name": "python3"
  },
  "language_info": {
   "codemirror_mode": {
    "name": "ipython",
    "version": 3
   },
   "file_extension": ".py",
   "mimetype": "text/x-python",
   "name": "python",
   "nbconvert_exporter": "python",
   "pygments_lexer": "ipython3",
   "version": "3.7.1"
  }
 },
 "nbformat": 4,
 "nbformat_minor": 2
}
